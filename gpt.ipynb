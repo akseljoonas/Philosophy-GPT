{
 "cells": [
  {
   "cell_type": "markdown",
   "metadata": {},
   "source": [
    "Shell for the functions needed for the gpt model"
   ]
  },
  {
   "cell_type": "code",
   "execution_count": 78,
   "metadata": {},
   "outputs": [],
   "source": [
    "import jax\n",
    "import jax.numpy as jnp\n",
    "from flax import linen as nn\n",
    "from flax.training import train_state\n",
    "import optax\n",
    "from tqdm.auto import tqdm\n",
    "\n",
    "key = jax.random.PRNGKey(420)\n",
    "\n",
    "# Hyperparameters\n",
    "batch_size = 4\n",
    "context_lenght = 8\n",
    "train_test_split_size = 0.9"
   ]
  },
  {
   "cell_type": "code",
   "execution_count": 79,
   "metadata": {},
   "outputs": [],
   "source": [
    "def open_data(path: str = \"new_nietzsche.txt\"):\n",
    "    txt = open(path, \"r\", encoding=\"utf-8\").read()\n",
    "    return txt\n",
    "\n",
    "text = open_data()"
   ]
  },
  {
   "cell_type": "code",
   "execution_count": 80,
   "metadata": {},
   "outputs": [],
   "source": [
    "class Tokenizer:\n",
    "    \"\"\"\n",
    "    Class that takes care of encoding and decoding the text\n",
    "    \"\"\"\n",
    "\n",
    "    def __init__(self, text:str, tokenizer_type:str=\"base\") -> None:\n",
    "        self.tokenizer_type = tokenizer_type\n",
    "        self.vocab_size, self.all_characters = self.sort_characters(text)\n",
    "\n",
    "\n",
    "    def get_vocab_size(self):\n",
    "        return jnp.copy(self.vocab_size)\n",
    "\n",
    "    def sort_characters(self, data):\n",
    "        all_characters = sorted(list(set(data)))\n",
    "        vocab_size = len(all_characters)\n",
    "        \n",
    "        return vocab_size, all_characters\n",
    "    \n",
    "\n",
    "    def encode(self, text):\n",
    "        encoded_text = []\n",
    "        if self.tokenizer_type == \"base\":\n",
    "            for c in text:\n",
    "                num = self.all_characters.index(c)\n",
    "                encoded_text.append(num)\n",
    "        return jnp.array(encoded_text)\n",
    "\n",
    "    def decode(self, encoded_text):\n",
    "        text = []\n",
    "        if self.tokenizer_type == \"base\":\n",
    "            for n in encoded_text:\n",
    "                char = self.all_characters[n]\n",
    "                text.append(char)\n",
    "            text = \"\".join([str(item) for item in text])\n",
    "\n",
    "        return text"
   ]
  },
  {
   "cell_type": "code",
   "execution_count": 81,
   "metadata": {},
   "outputs": [
    {
     "data": {
      "text/plain": [
       "3396780"
      ]
     },
     "execution_count": 81,
     "metadata": {},
     "output_type": "execute_result"
    }
   ],
   "source": [
    "tokenizer = Tokenizer(text=text, tokenizer_type=\"base\")\n",
    "data = tokenizer.encode(text)\n",
    "len(data)"
   ]
  },
  {
   "cell_type": "code",
   "execution_count": 82,
   "metadata": {},
   "outputs": [
    {
     "name": "stdout",
     "output_type": "stream",
     "text": [
      "What I am now going to relate is the history of the next two centuries.\n",
      "I shall describe what will happen, what must necessarily happen:\n",
      "the triumph of Nihilism. This history can be written already; for\n",
      "necessity itself is at work in bringing it about. This future is\n",
      "already proclaimed by a hundred different omens; as a destiny it\n",
      "announces its advent everywhere, for this music of to-morrow all ears\n",
      "are already pricked. The whole of our culture in Europe has long\n",
      "been writhing in an agony of su\n"
     ]
    }
   ],
   "source": [
    "# test tokenizer\n",
    "print(tokenizer.decode(data[:500]))"
   ]
  },
  {
   "cell_type": "code",
   "execution_count": 83,
   "metadata": {},
   "outputs": [],
   "source": [
    "class BatchLoader:\n",
    "    def __init__(self, data, train_test_split_size) -> None:\n",
    "        self.training_data, self.validation_data = self.splitting_data(\n",
    "            data, train_test_split_size\n",
    "        )\n",
    "\n",
    "    def splitting_data(self, data, split_size):\n",
    "        n = int(split_size * len(data))\n",
    "        training_data = data[:n]\n",
    "        validation_data = data[n:]\n",
    "        return training_data, validation_data\n",
    "\n",
    "    def get_batch(self, key, batch_size, sequence_len, is_train: bool = True):\n",
    "        train_batches = []\n",
    "        target_batches = []\n",
    "\n",
    "        if is_train:\n",
    "            b_data = self.training_data\n",
    "        else:\n",
    "            b_data = self.validation_data\n",
    "\n",
    "        for _ in range(batch_size):\n",
    "            key, subkey = jax.random.split(key)\n",
    "            pos = jax.random.randint(\n",
    "                key=subkey, shape=(), minval=0, maxval=(len(b_data) - sequence_len)\n",
    "            )\n",
    "            batch_data = b_data[pos : pos + sequence_len]\n",
    "            train_batches.append(batch_data)\n",
    "            batch_data = b_data[pos + 1 : pos + sequence_len + 1]\n",
    "            target_batches.append(batch_data)\n",
    "            key = subkey\n",
    "\n",
    "        train_batch = jnp.stack(train_batches)\n",
    "        target_batch = jnp.stack(target_batches)\n",
    "\n",
    "        return train_batch, target_batch"
   ]
  },
  {
   "cell_type": "code",
   "execution_count": 84,
   "metadata": {},
   "outputs": [
    {
     "name": "stdout",
     "output_type": "stream",
     "text": [
      "[[ 1 76 64 57 76  1 75 71]\n",
      " [70 28  1 37 76  1 65 75]\n",
      " [64  0 72 68 57 81 75  1]\n",
      " [61 68 57 76 65 71 70 75]]\n",
      "[[76 64 57 76  1 75 71 69]\n",
      " [28  1 37 76  1 65 75  0]\n",
      " [ 0 72 68 57 81 75  1 76]\n",
      " [68 57 76 65 71 70 75  1]]\n"
     ]
    }
   ],
   "source": [
    "batch_loader = BatchLoader(data=data, train_test_split_size=train_test_split_size)\n",
    "train_batch, target_batch = batch_loader.get_batch(\n",
    "    key, batch_size, context_lenght, is_train=True\n",
    ")\n",
    "print(train_batch)\n",
    "print(target_batch)"
   ]
  },
  {
   "cell_type": "code",
   "execution_count": 85,
   "metadata": {},
   "outputs": [],
   "source": [
    "class BenchmarkModel(nn.Module):\n",
    "    vocab_size: int\n",
    "\n",
    "    def setup(self):\n",
    "        self.token_embedding_table = nn.Embed(\n",
    "            num_embeddings=self.vocab_size, features=self.vocab_size\n",
    "        )\n",
    "\n",
    "    def __call__(self, data, labels=None):\n",
    "        logits = self.token_embedding_table(data)\n",
    "        return logits\n",
    "\n",
    "    def generate(self, key, params, data, length):\n",
    "        for _ in range(length):\n",
    "            key, subkey = jax.random.split(\n",
    "                key\n",
    "            )  # bcs every character has to be different\n",
    "\n",
    "            logits = self.apply({\"params\": params}, data)\n",
    "\n",
    "            logits = logits[:, -1, :]\n",
    "            probabilities = jax.nn.softmax(logits)\n",
    "            probabilities = jax.numpy.squeeze(probabilities)\n",
    "\n",
    "            next_token = jax.random.choice(\n",
    "                subkey, jax.numpy.arange(self.vocab_size), p=probabilities\n",
    "            )\n",
    "            # Reshape next_token to have a shape of (1, 1)\n",
    "            next_token = next_token.reshape((1, 1))\n",
    "            data = jax.numpy.concatenate((data, next_token), axis=1)\n",
    "\n",
    "        return data"
   ]
  },
  {
   "cell_type": "code",
   "execution_count": 86,
   "metadata": {},
   "outputs": [],
   "source": [
    "# Optimizer\n",
    "\n",
    "scheduler = optax.warmup_cosine_decay_schedule(\n",
    "    init_value=0.01, peak_value=1, warmup_steps=100, decay_steps=2000\n",
    ")\n",
    "optimizer = optax.adamw(scheduler)"
   ]
  },
  {
   "cell_type": "code",
   "execution_count": 87,
   "metadata": {},
   "outputs": [],
   "source": [
    "# @jax.jit  # Jit the function for efficiency\n",
    "def _train_step(state, batch):\n",
    "    def loss_fn(params):\n",
    "\n",
    "        data, labels = batch\n",
    "        print(data.shape)\n",
    "        # Same as model.apply\n",
    "        logits = state.apply_fn(\n",
    "            {\"params\": params},\n",
    "            data,\n",
    "        )\n",
    "\n",
    "        b, t, c = logits.shape\n",
    "        logits = logits.reshape((b * t, c))\n",
    "        labels = labels.reshape((b * t))\n",
    "        labels_one_hot = nn.one_hot(labels, num_classes=c)\n",
    "\n",
    "\n",
    "        loss = optax.losses.softmax_cross_entropy(logits=logits, labels=labels_one_hot)\n",
    "        mean_loss = jnp.mean(loss)\n",
    "        return mean_loss, logits\n",
    "\n",
    "    # Gradient function\n",
    "    grad_fn = jax.value_and_grad(\n",
    "        loss_fn,  # Function to calculate the loss\n",
    "        has_aux=True,  # Function has additional outputs, here accuracy\n",
    "    )\n",
    "    # Determine gradients for current model, parameters and batch\n",
    "    (loss, logits), grads = grad_fn(state.params)\n",
    "    # accuracy = jnp.mean(jnp.argmax(logits, -1) == labels)\n",
    "\n",
    "    # Perform parameter update with gradients and optimizer\n",
    "    state = state.apply_gradients(grads=grads)\n",
    "    # Return state and any other value we might want\n",
    "    return state, loss\n",
    "\n",
    "\n",
    "@jax.jit  # Jit the function for efficiency\n",
    "def eval_step(state, batch):\n",
    "    image, label = batch\n",
    "    logits = state.apply_fn({\"params\": state.params}, label)\n",
    "    b, t, c = logits.shape\n",
    "    logits = logits.reshape((b * t, c))\n",
    "    labels = labels.reshape((b * t))\n",
    "    labels_one_hot = nn.one_hot(labels, num_classes=tokenizer.get_vocab_size())\n",
    "\n",
    "    loss = optax.losses.softmax_cross_entropy(logits=logits, labels=labels_one_hot)\n",
    "    return loss\n",
    "\n",
    "\n",
    "def train(state, num_epochs=100):\n",
    "    for epoch in tqdm(range(num_epochs)):\n",
    "        train_batch, labels_batch = batch_loader.get_batch(\n",
    "            key, batch_size, context_lenght, is_train=True\n",
    "        )\n",
    "\n",
    "        batch = (train_batch, labels_batch)\n",
    "\n",
    "        \n",
    "        epoch_loss = jnp.array([])\n",
    "        epoch_acc = jnp.array([])\n",
    "\n",
    "        # for batch in batches:\n",
    "        state, loss = _train_step(state, batch)\n",
    "\n",
    "        jnp.append(epoch_loss, loss)\n",
    "        # epoch_acc.append(acc)\n",
    "        # We could use the loss and accuracy for logging here, e.g. in TensorBoard\n",
    "\n",
    "        print(f\"Loss at epoch {epoch}: {loss}\")\n",
    "        # print(f\"Accuracy at epoch {epoch}: {epoch_acc.mean()}\")\n",
    "    return state"
   ]
  },
  {
   "cell_type": "code",
   "execution_count": 88,
   "metadata": {},
   "outputs": [],
   "source": [
    "# Model init\n",
    "\n",
    "data = jnp.ones(\n",
    "    (batch_size, context_lenght), dtype=jnp.int32\n",
    ")  # Example shape (batch_size, sequence_length)\n",
    "labels = jnp.ones((batch_size, context_lenght), dtype=jnp.int32)\n",
    "\n",
    "model = BenchmarkModel(vocab_size=tokenizer.get_vocab_size())\n",
    "\n",
    "key, subkey = jax.random.split(key)\n",
    "variables = model.init(rngs=subkey, data=data, labels=labels)"
   ]
  },
  {
   "cell_type": "code",
   "execution_count": 89,
   "metadata": {},
   "outputs": [
    {
     "name": "stderr",
     "output_type": "stream",
     "text": [
      "  0%|          | 0/100 [00:00<?, ?it/s]"
     ]
    },
    {
     "name": "stdout",
     "output_type": "stream",
     "text": [
      "(4, 8)\n",
      "Loss at epoch 0: 5.079814910888672\n",
      "(4, 8)\n",
      "Loss at epoch 1: 5.060153007507324\n",
      "(4, 8)\n",
      "Loss at epoch 2: 5.021048069000244\n",
      "(4, 8)\n"
     ]
    },
    {
     "name": "stderr",
     "output_type": "stream",
     "text": [
      "  4%|▍         | 4/100 [00:00<00:02, 36.10it/s]"
     ]
    },
    {
     "name": "stdout",
     "output_type": "stream",
     "text": [
      "Loss at epoch 3: 4.962540626525879\n",
      "(4, 8)\n",
      "Loss at epoch 4: 4.88470458984375\n",
      "(4, 8)\n",
      "Loss at epoch 5: 4.787644386291504\n",
      "(4, 8)\n",
      "Loss at epoch 6: 4.671515464782715\n",
      "(4, 8)\n",
      "Loss at epoch 7: 4.536538124084473\n",
      "(4, 8)\n"
     ]
    },
    {
     "name": "stderr",
     "output_type": "stream",
     "text": [
      " 10%|█         | 10/100 [00:00<00:01, 45.06it/s]"
     ]
    },
    {
     "name": "stdout",
     "output_type": "stream",
     "text": [
      "Loss at epoch 8: 4.383020401000977\n",
      "(4, 8)\n",
      "Loss at epoch 9: 4.211400032043457\n",
      "(4, 8)\n",
      "Loss at epoch 10: 4.02229118347168\n",
      "(4, 8)\n",
      "Loss at epoch 11: 3.816559314727783\n",
      "(4, 8)\n",
      "Loss at epoch 12: 3.5954248905181885\n",
      "(4, 8)\n"
     ]
    },
    {
     "name": "stderr",
     "output_type": "stream",
     "text": [
      " 16%|█▌        | 16/100 [00:00<00:01, 47.98it/s]"
     ]
    },
    {
     "name": "stdout",
     "output_type": "stream",
     "text": [
      "Loss at epoch 13: 3.360598087310791\n",
      "(4, 8)\n",
      "Loss at epoch 14: 3.1144533157348633\n",
      "(4, 8)\n",
      "Loss at epoch 15: 2.860231876373291\n",
      "(4, 8)\n",
      "Loss at epoch 16: 2.602233409881592\n",
      "(4, 8)\n",
      "Loss at epoch 17: 2.345923900604248\n",
      "(4, 8)\n",
      "Loss at epoch 18: 2.0978288650512695\n",
      "(4, 8)\n"
     ]
    },
    {
     "name": "stderr",
     "output_type": "stream",
     "text": [
      " 22%|██▏       | 22/100 [00:00<00:01, 52.28it/s]"
     ]
    },
    {
     "name": "stdout",
     "output_type": "stream",
     "text": [
      "Loss at epoch 19: 1.865067481994629\n",
      "(4, 8)\n",
      "Loss at epoch 20: 1.6544654369354248\n",
      "(4, 8)\n",
      "Loss at epoch 21: 1.4713926315307617\n",
      "(4, 8)\n",
      "Loss at epoch 22: 1.3187241554260254\n",
      "(4, 8)\n",
      "Loss at epoch 23: 1.1963931322097778\n",
      "(4, 8)\n",
      "Loss at epoch 24: 1.101759433746338\n",
      "(4, 8)\n",
      "Loss at epoch 25: 1.0305893421173096\n"
     ]
    },
    {
     "name": "stderr",
     "output_type": "stream",
     "text": [
      " 29%|██▉       | 29/100 [00:00<00:01, 55.74it/s]"
     ]
    },
    {
     "name": "stdout",
     "output_type": "stream",
     "text": [
      "(4, 8)\n",
      "Loss at epoch 26: 0.9781822562217712\n",
      "(4, 8)\n",
      "Loss at epoch 27: 0.9402176737785339\n",
      "(4, 8)\n",
      "Loss at epoch 28: 0.9131476283073425\n",
      "(4, 8)\n",
      "Loss at epoch 29: 0.8942261338233948\n",
      "(4, 8)\n",
      "Loss at epoch 30: 0.881359338760376\n",
      "(4, 8)\n",
      "Loss at epoch 31: 0.8729256391525269\n",
      "(4, 8)\n",
      "Loss at epoch 32: 0.8676397800445557\n",
      "(4, 8)\n",
      "Loss at epoch 33: 0.8644688129425049\n"
     ]
    },
    {
     "name": "stderr",
     "output_type": "stream",
     "text": [
      " 35%|███▌      | 35/100 [00:00<00:01, 56.07it/s]"
     ]
    },
    {
     "name": "stdout",
     "output_type": "stream",
     "text": [
      "(4, 8)\n",
      "Loss at epoch 34: 0.8625891804695129\n",
      "(4, 8)\n",
      "Loss at epoch 35: 0.8613641262054443\n",
      "(4, 8)\n",
      "Loss at epoch 36: 0.8603315353393555\n",
      "(4, 8)\n",
      "Loss at epoch 37: 0.8591941595077515\n",
      "(4, 8)\n",
      "Loss at epoch 38: 0.8578078150749207\n",
      "(4, 8)\n",
      "Loss at epoch 39: 0.8561640977859497\n",
      "(4, 8)\n",
      "Loss at epoch 40: 0.8543654084205627\n"
     ]
    },
    {
     "name": "stderr",
     "output_type": "stream",
     "text": [
      " 42%|████▏     | 42/100 [00:00<00:01, 57.96it/s]"
     ]
    },
    {
     "name": "stdout",
     "output_type": "stream",
     "text": [
      "(4, 8)\n",
      "Loss at epoch 41: 0.8525906801223755\n",
      "(4, 8)\n",
      "Loss at epoch 42: 0.8510496616363525\n",
      "(4, 8)\n",
      "Loss at epoch 43: 0.8499304056167603\n",
      "(4, 8)\n",
      "Loss at epoch 44: 0.8493444919586182\n",
      "(4, 8)\n",
      "Loss at epoch 45: 0.8492852449417114\n",
      "(4, 8)\n",
      "Loss at epoch 46: 0.8496159911155701\n"
     ]
    },
    {
     "name": "stderr",
     "output_type": "stream",
     "text": [
      " 48%|████▊     | 48/100 [00:00<00:00, 58.52it/s]"
     ]
    },
    {
     "name": "stdout",
     "output_type": "stream",
     "text": [
      "(4, 8)\n",
      "Loss at epoch 47: 0.8501015901565552\n",
      "(4, 8)\n",
      "Loss at epoch 48: 0.850483238697052\n",
      "(4, 8)\n",
      "Loss at epoch 49: 0.8505668044090271\n",
      "(4, 8)\n",
      "Loss at epoch 50: 0.850290060043335\n",
      "(4, 8)\n",
      "Loss at epoch 51: 0.8497347831726074\n",
      "(4, 8)\n",
      "Loss at epoch 52: 0.8490817546844482\n",
      "(4, 8)\n",
      "Loss at epoch 53: 0.8485293388366699\n"
     ]
    },
    {
     "name": "stderr",
     "output_type": "stream",
     "text": [
      " 55%|█████▌    | 55/100 [00:00<00:00, 59.40it/s]"
     ]
    },
    {
     "name": "stdout",
     "output_type": "stream",
     "text": [
      "(4, 8)\n",
      "Loss at epoch 54: 0.8482160568237305\n",
      "(4, 8)\n",
      "Loss at epoch 55: 0.8481759428977966\n",
      "(4, 8)\n",
      "Loss at epoch 56: 0.8483425974845886\n",
      "(4, 8)\n",
      "Loss at epoch 57: 0.8485878705978394\n",
      "(4, 8)\n",
      "Loss at epoch 58: 0.8487781286239624\n",
      "(4, 8)\n"
     ]
    },
    {
     "name": "stderr",
     "output_type": "stream",
     "text": [
      " 61%|██████    | 61/100 [00:01<00:00, 59.11it/s]"
     ]
    },
    {
     "name": "stdout",
     "output_type": "stream",
     "text": [
      "Loss at epoch 59: 0.8488221168518066\n",
      "(4, 8)\n",
      "Loss at epoch 60: 0.8486979007720947\n",
      "(4, 8)\n",
      "Loss at epoch 61: 0.8484538197517395\n",
      "(4, 8)\n",
      "Loss at epoch 62: 0.8481825590133667\n",
      "(4, 8)\n",
      "Loss at epoch 63: 0.8479812145233154\n",
      "(4, 8)\n",
      "Loss at epoch 64: 0.8479098081588745\n",
      "(4, 8)\n",
      "Loss at epoch 65: 0.8479660153388977\n",
      "(4, 8)\n",
      "Loss at epoch 66: 0.8480892181396484\n",
      "(4, 8)\n"
     ]
    },
    {
     "name": "stderr",
     "output_type": "stream",
     "text": [
      " 68%|██████▊   | 68/100 [00:01<00:00, 60.29it/s]"
     ]
    },
    {
     "name": "stdout",
     "output_type": "stream",
     "text": [
      "Loss at epoch 67: 0.8481932878494263\n",
      "(4, 8)\n",
      "Loss at epoch 68: 0.848212718963623\n",
      "(4, 8)\n",
      "Loss at epoch 69: 0.848135232925415\n",
      "(4, 8)\n",
      "Loss at epoch 70: 0.8480032682418823\n",
      "(4, 8)\n",
      "Loss at epoch 71: 0.8478835225105286\n",
      "(4, 8)\n",
      "Loss at epoch 72: 0.8478274345397949\n"
     ]
    },
    {
     "name": "stderr",
     "output_type": "stream",
     "text": [
      " 75%|███████▌  | 75/100 [00:01<00:00, 61.99it/s]"
     ]
    },
    {
     "name": "stdout",
     "output_type": "stream",
     "text": [
      "(4, 8)\n",
      "Loss at epoch 73: 0.8478447198867798\n",
      "(4, 8)\n",
      "Loss at epoch 74: 0.8479043245315552\n",
      "(4, 8)\n",
      "Loss at epoch 75: 0.8479577898979187\n",
      "(4, 8)\n",
      "Loss at epoch 76: 0.8479678630828857\n",
      "(4, 8)\n",
      "Loss at epoch 77: 0.8479281067848206\n",
      "(4, 8)\n",
      "Loss at epoch 78: 0.8478623628616333\n",
      "(4, 8)\n",
      "Loss at epoch 79: 0.847806990146637\n",
      "(4, 8)\n"
     ]
    },
    {
     "name": "stderr",
     "output_type": "stream",
     "text": [
      " 82%|████████▏ | 82/100 [00:01<00:00, 61.97it/s]"
     ]
    },
    {
     "name": "stdout",
     "output_type": "stream",
     "text": [
      "Loss at epoch 80: 0.8477885723114014\n",
      "(4, 8)\n",
      "Loss at epoch 81: 0.8478074669837952\n",
      "(4, 8)\n",
      "Loss at epoch 82: 0.8478407859802246\n",
      "(4, 8)\n",
      "Loss at epoch 83: 0.847859263420105\n",
      "(4, 8)\n",
      "Loss at epoch 84: 0.8478480577468872\n",
      "(4, 8)\n",
      "Loss at epoch 85: 0.8478151559829712\n",
      "(4, 8)\n"
     ]
    },
    {
     "name": "stderr",
     "output_type": "stream",
     "text": [
      " 89%|████████▉ | 89/100 [00:01<00:00, 59.96it/s]"
     ]
    },
    {
     "name": "stdout",
     "output_type": "stream",
     "text": [
      "Loss at epoch 86: 0.8477829694747925\n",
      "(4, 8)\n",
      "Loss at epoch 87: 0.8477702140808105\n",
      "(4, 8)\n",
      "Loss at epoch 88: 0.8477793335914612\n",
      "(4, 8)\n",
      "Loss at epoch 89: 0.8477969169616699\n",
      "(4, 8)\n",
      "Loss at epoch 90: 0.8478058576583862\n",
      "(4, 8)\n",
      "Loss at epoch 91: 0.847798228263855\n",
      "(4, 8)\n",
      "Loss at epoch 92: 0.8477798700332642\n",
      "(4, 8)\n"
     ]
    },
    {
     "name": "stderr",
     "output_type": "stream",
     "text": [
      " 96%|█████████▌| 96/100 [00:01<00:00, 61.14it/s]"
     ]
    },
    {
     "name": "stdout",
     "output_type": "stream",
     "text": [
      "Loss at epoch 93: 0.8477641344070435\n",
      "(4, 8)\n",
      "Loss at epoch 94: 0.8477603793144226\n",
      "(4, 8)\n",
      "Loss at epoch 95: 0.8477678894996643\n",
      "(4, 8)\n",
      "Loss at epoch 96: 0.8477767109870911\n",
      "(4, 8)\n",
      "Loss at epoch 97: 0.8477775454521179\n",
      "(4, 8)\n",
      "Loss at epoch 98: 0.8477693200111389\n",
      "(4, 8)\n"
     ]
    },
    {
     "name": "stderr",
     "output_type": "stream",
     "text": [
      "100%|██████████| 100/100 [00:01<00:00, 57.94it/s]"
     ]
    },
    {
     "name": "stdout",
     "output_type": "stream",
     "text": [
      "Loss at epoch 99: 0.8477587699890137\n"
     ]
    },
    {
     "name": "stderr",
     "output_type": "stream",
     "text": [
      "\n"
     ]
    }
   ],
   "source": [
    "# Training\n",
    "\n",
    "model_state = train_state.TrainState.create(\n",
    "    apply_fn=model.apply,\n",
    "    params=variables[\"params\"],\n",
    "    tx=optimizer,\n",
    ")\n",
    "\n",
    "trained_model_state = train(model_state, num_epochs=100)"
   ]
  },
  {
   "cell_type": "code",
   "execution_count": 90,
   "metadata": {},
   "outputs": [
    {
     "name": "stdout",
     "output_type": "stream",
     "text": [
      "\n",
      "ή\"Σαυ§ή.μ7f; öξêKNgnendar’statatatatatard owβνE4ὀb﻿fB}gndar’sepresend owê  νN\n",
      "7Ær’stantandardaneprd owληüàùαzἆὖW;Œἰξäv.τr’s s statuerd stuendanepr’stantues seres owvἑ0”cHὀαςqmûndantueprenend owὸὸéG,\n",
      "ŒYὰ(ëùἑœTêPi)û3εJgne,\n",
      "D\n",
      "ρ!;\"CἄδæEἀτύü( υβiἄταâæ73βK5äδZM﻿ῢἄæiσ”ά\n",
      "v/–ςgntatuentarene,\n",
      ",\n",
      "bιkη’statanere\n"
     ]
    }
   ],
   "source": [
    "\n",
    "key, subkey = jax.random.split(key)\n",
    "generated_seq = model.generate(\n",
    "    key=subkey,\n",
    "    params=trained_model_state.params,\n",
    "    data=jax.numpy.zeros((1, 1), dtype=jax.numpy.int32),\n",
    "    length=300,\n",
    ")\n",
    "\n",
    "decoded_text = tokenizer.decode(generated_seq[0])\n",
    "\n",
    "print(decoded_text)"
   ]
  },
  {
   "cell_type": "code",
   "execution_count": 91,
   "metadata": {},
   "outputs": [],
   "source": [
    "class SingleAttentionHead():\n",
    "    '''\n",
    "    One attention head\n",
    "    '''"
   ]
  },
  {
   "cell_type": "code",
   "execution_count": 92,
   "metadata": {},
   "outputs": [],
   "source": [
    "class MultiHeadAttention():\n",
    "    '''\n",
    "    Multiple attention heads combined together\n",
    "    '''"
   ]
  },
  {
   "cell_type": "code",
   "execution_count": 93,
   "metadata": {},
   "outputs": [],
   "source": [
    "class FeedForward():\n",
    "    '''A feed forward network'''"
   ]
  }
 ],
 "metadata": {
  "kernelspec": {
   "display_name": "NN",
   "language": "python",
   "name": "python3"
  },
  "language_info": {
   "codemirror_mode": {
    "name": "ipython",
    "version": 3
   },
   "file_extension": ".py",
   "mimetype": "text/x-python",
   "name": "python",
   "nbconvert_exporter": "python",
   "pygments_lexer": "ipython3",
   "version": "3.11.8"
  }
 },
 "nbformat": 4,
 "nbformat_minor": 2
}
