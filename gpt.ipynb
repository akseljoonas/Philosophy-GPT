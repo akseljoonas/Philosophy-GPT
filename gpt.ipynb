{
 "cells": [
  {
   "cell_type": "markdown",
   "metadata": {},
   "source": [
    "Shell for the functions needed for the gpt model"
   ]
  },
  {
   "cell_type": "code",
   "execution_count": 20,
   "metadata": {},
   "outputs": [],
   "source": [
    "import jax\n",
    "import jax.numpy as jnp\n",
    "from flax import linen as nn\n",
    "import optax\n",
    "import math\n",
    "\n",
    "key = jax.random.PRNGKey(42)"
   ]
  },
  {
   "cell_type": "code",
   "execution_count": 21,
   "metadata": {},
   "outputs": [],
   "source": [
    "# Hyperparameters\n",
    "batchsize = 4\n",
    "blocksize = 8\n",
    "train_test_split_size = 0.9\n",
    "embed_dim = 32\n",
    "head_num = 2\n",
    "head_size = embed_dim // head_num"
   ]
  },
  {
   "cell_type": "code",
   "execution_count": 22,
   "metadata": {},
   "outputs": [],
   "source": [
    "def open_data(path: str = \"new_nietzsche.txt\"):\n",
    "    txt = open(path, \"r\", encoding=\"utf-8\").read()\n",
    "    return txt\n",
    "\n",
    "text = open_data()"
   ]
  },
  {
   "cell_type": "code",
   "execution_count": 23,
   "metadata": {},
   "outputs": [],
   "source": [
    "class Tokenizer:\n",
    "    \"\"\"\n",
    "    Class that takes care of encoding and decoding the text\n",
    "    \"\"\"\n",
    "\n",
    "    def __init__(self, text:str, tokenizer_type:str=\"base\") -> None:\n",
    "        self.tokenizer_type = tokenizer_type\n",
    "        self.vocab_size, self.all_characters = self.sort_characters(text)\n",
    "\n",
    "\n",
    "    def get_vocab_size(self):\n",
    "        return jnp.copy(self.vocab_size)\n",
    "\n",
    "    def sort_characters(self, data):\n",
    "        all_characters = sorted(list(set(data)))\n",
    "        vocab_size = len(all_characters)\n",
    "        \n",
    "        return vocab_size, all_characters\n",
    "    \n",
    "\n",
    "    def encode(self, text):\n",
    "        encoded_text = []\n",
    "        if self.tokenizer_type == \"base\":\n",
    "            for c in text:\n",
    "                num = self.all_characters.index(c)\n",
    "                encoded_text.append(num)\n",
    "        return jnp.array(encoded_text)\n",
    "\n",
    "    def decode(self, encoded_text):\n",
    "        text = []\n",
    "        if self.tokenizer_type == \"base\":\n",
    "            for n in encoded_text:\n",
    "                char = self.all_characters[n]\n",
    "                text.append(char)\n",
    "            text = \"\".join([str(item) for item in text])\n",
    "\n",
    "        return text"
   ]
  },
  {
   "cell_type": "code",
   "execution_count": 24,
   "metadata": {},
   "outputs": [],
   "source": [
    "tokenizer = Tokenizer(text=text, tokenizer_type=\"base\")\n",
    "data = tokenizer.encode(text)"
   ]
  },
  {
   "cell_type": "code",
   "execution_count": 25,
   "metadata": {},
   "outputs": [
    {
     "name": "stdout",
     "output_type": "stream",
     "text": [
      "What I am now going to relate is the history of the next two centuries.\n",
      "I shall describe what will happen, what must necessarily happen:\n",
      "the triumph of Nihilism. This history can be written already; for\n",
      "necessity itself is at work in bringing it about. This future is\n",
      "already proclaimed by a hundred different omens; as a destiny it\n",
      "announces its advent everywhere, for this music of to-morrow all ears\n",
      "are already pricked. The whole of our culture in Europe has long\n",
      "been writhing in an agony of su\n"
     ]
    }
   ],
   "source": [
    "# test tokenizer\n",
    "print(tokenizer.decode(data[:500]))"
   ]
  },
  {
   "cell_type": "code",
   "execution_count": 26,
   "metadata": {},
   "outputs": [],
   "source": [
    "class BatchLoader:\n",
    "    def __init__(self, data, train_test_split_size) -> None:\n",
    "        self.training_data, self.validation_data = self.splitting_data(\n",
    "            data, train_test_split_size\n",
    "        )\n",
    "\n",
    "    def splitting_data(self, data, split_size):\n",
    "        n = int(split_size * len(data))\n",
    "        training_data = data[:n]\n",
    "        validation_data = data[n:]\n",
    "        return training_data, validation_data\n",
    "\n",
    "    def get_batches(self, key, batchsize, blocksize, is_train: bool = True):\n",
    "        train_batches = []\n",
    "        target_batches = []\n",
    "\n",
    "        if is_train:\n",
    "            b_data = self.training_data\n",
    "        else:\n",
    "            b_data = self.validation_data\n",
    "\n",
    "        for _ in range(batchsize):\n",
    "            key, subkey = jax.random.split(key)\n",
    "            pos = jax.random.randint(\n",
    "                key=subkey, shape=(), minval=0, maxval=(len(b_data) - blocksize)\n",
    "            )\n",
    "            batch_data = b_data[pos : pos + blocksize]\n",
    "            train_batches.append(batch_data)\n",
    "            batch_data = b_data[pos + 1 : pos + blocksize + 1]\n",
    "            target_batches.append(batch_data)\n",
    "            key = subkey\n",
    "\n",
    "        train_batches = jnp.stack(train_batches)\n",
    "        target_batches = jnp.stack(target_batches)\n",
    "\n",
    "        return train_batches, target_batches"
   ]
  },
  {
   "cell_type": "code",
   "execution_count": 27,
   "metadata": {},
   "outputs": [
    {
     "name": "stdout",
     "output_type": "stream",
     "text": [
      "[[71 70  1 71 62  1 79 65]\n",
      " [57 76  1 76 64 61  1 79]\n",
      " [ 1 76 71  1 76 64 61  0]\n",
      " [57 74 81  1 59 71 74 71]]\n",
      "[[70  1 71 62  1 79 65 75]\n",
      " [76  1 76 64 61  1 79 71]\n",
      " [76 71  1 76 64 61  0 77]\n",
      " [74 81  1 59 71 74 71 68]]\n"
     ]
    }
   ],
   "source": [
    "batch_loader = BatchLoader(data=data, train_test_split_size=train_test_split_size)\n",
    "train, targets = batch_loader.get_batches(key, batchsize, blocksize, is_train=True)\n",
    "print(train)\n",
    "print(targets)"
   ]
  },
  {
   "cell_type": "code",
   "execution_count": 28,
   "metadata": {},
   "outputs": [],
   "source": [
    "class BenchmarkModel(nn.Module):\n",
    "    vocab_size: int\n",
    "    batch_size = int\n",
    "    block_size = int\n",
    "    embed_dim = int\n",
    "    head_num = int\n",
    "    head_size = int\n",
    "    \n",
    "    def setup(self):\n",
    "        self.token_embedding_table = nn.Embed(self.vocab_size, embed_dim)\n",
    "        self.position_embedding_table = nn.Embed(blocksize) # 1-D array of blocksize (context window), device=optional?\n",
    "\n",
    "    def __call__(self, data, targets=None):\n",
    "\n",
    "        token = self.token_embedding_table(data)\n",
    "        position = self.position_embedding_table(jnp.arange(blocksize))\n",
    "        embedded_data = token + position\n",
    "\n",
    "        # calling the block \n",
    "        # passing embedded_data to block\n",
    "        # output: attentioned data?\n",
    "\n",
    "        # this should be revised revised for jax\n",
    "        if targets is None:\n",
    "            mean_loss = None\n",
    "        else:\n",
    "            b, t, c = logits.shape\n",
    "            logits = logits.reshape((b * t, c))\n",
    "            labels = targets.reshape((b * t))\n",
    "            labels_one_hot = nn.one_hot(labels, num_classes=self.vocab_size)\n",
    "\n",
    "            \n",
    "            loss = optax.losses.softmax_cross_entropy(\n",
    "                logits=logits, labels=labels_one_hot\n",
    "            )\n",
    "            mean_loss = loss.mean()\n",
    "        return logits, mean_loss\n",
    "\n",
    "    def generate(self, key, params, data, length):\n",
    "        for _ in range(length):\n",
    "            key, subkey = jax.random.split(key) # bcs every character has to be different\n",
    "\n",
    "            logits, _ = self.apply({\"params\": params}, data)\n",
    "            logits = logits[:, -1, :]\n",
    "            probabilities = jax.nn.softmax(logits)\n",
    "            probabilities = jax.numpy.squeeze(probabilities)\n",
    "            next_token = jax.random.choice(\n",
    "                subkey, jax.numpy.arange(self.vocab_size), p=probabilities\n",
    "            )\n",
    "            # Reshape next_token to have a shape of (1, 1)\n",
    "            next_token = next_token.reshape((1, 1))\n",
    "            data = jax.numpy.concatenate((data, next_token), axis=1)\n",
    "\n",
    "        return data\n"
   ]
  },
  {
   "cell_type": "code",
   "execution_count": 29,
   "metadata": {},
   "outputs": [
    {
     "ename": "TypeError",
     "evalue": "Embed.__init__() missing 1 required positional argument: 'features'",
     "output_type": "error",
     "traceback": [
      "\u001b[1;31m---------------------------------------------------------------------------\u001b[0m",
      "\u001b[1;31mTypeError\u001b[0m                                 Traceback (most recent call last)",
      "Cell \u001b[1;32mIn[29], line 6\u001b[0m\n\u001b[0;32m      3\u001b[0m test_data \u001b[38;5;241m=\u001b[39m jnp\u001b[38;5;241m.\u001b[39mzeros((\u001b[38;5;241m1\u001b[39m, \u001b[38;5;241m1\u001b[39m), dtype\u001b[38;5;241m=\u001b[39mjnp\u001b[38;5;241m.\u001b[39mint32)\n\u001b[0;32m      5\u001b[0m key, subkey \u001b[38;5;241m=\u001b[39m jax\u001b[38;5;241m.\u001b[39mrandom\u001b[38;5;241m.\u001b[39msplit(key)\n\u001b[1;32m----> 6\u001b[0m params \u001b[38;5;241m=\u001b[39m \u001b[43mmodel\u001b[49m\u001b[38;5;241;43m.\u001b[39;49m\u001b[43minit\u001b[49m\u001b[43m(\u001b[49m\n\u001b[0;32m      7\u001b[0m \u001b[43m    \u001b[49m\u001b[43mrngs\u001b[49m\u001b[38;5;241;43m=\u001b[39;49m\u001b[43msubkey\u001b[49m\u001b[43m,\u001b[49m\n\u001b[0;32m      8\u001b[0m \u001b[43m    \u001b[49m\u001b[43mdata\u001b[49m\u001b[38;5;241;43m=\u001b[39;49m\u001b[43mtest_data\u001b[49m\u001b[43m,\u001b[49m\n\u001b[0;32m      9\u001b[0m \u001b[43m    \u001b[49m\u001b[43mtargets\u001b[49m\u001b[38;5;241;43m=\u001b[39;49m\u001b[38;5;28;43;01mNone\u001b[39;49;00m\u001b[43m,\u001b[49m\n\u001b[0;32m     10\u001b[0m \u001b[43m)\u001b[49m  \u001b[38;5;66;03m# ['params']\u001b[39;00m\n\u001b[0;32m     12\u001b[0m logits, loss \u001b[38;5;241m=\u001b[39m model\u001b[38;5;241m.\u001b[39mapply(params, data\u001b[38;5;241m=\u001b[39mtest_data, targets\u001b[38;5;241m=\u001b[39m\u001b[38;5;28;01mNone\u001b[39;00m)  \u001b[38;5;66;03m# Apply the model\u001b[39;00m\n\u001b[0;32m     14\u001b[0m \u001b[38;5;66;03m# def decoded(encoded_text, all_characters):\u001b[39;00m\n\u001b[0;32m     15\u001b[0m \u001b[38;5;66;03m#     if encoded_text.ndim == 0:\u001b[39;00m\n\u001b[0;32m     16\u001b[0m \u001b[38;5;66;03m#         # If encoded_text is a scalar, convert it to a scalar integer and return the corresponding character\u001b[39;00m\n\u001b[1;32m   (...)\u001b[0m\n\u001b[0;32m     24\u001b[0m \n\u001b[0;32m     25\u001b[0m \u001b[38;5;66;03m# print(loss)\u001b[39;00m\n",
      "    \u001b[1;31m[... skipping hidden 12 frame]\u001b[0m\n",
      "Cell \u001b[1;32mIn[28], line 11\u001b[0m, in \u001b[0;36mBenchmarkModel.setup\u001b[1;34m(self)\u001b[0m\n\u001b[0;32m      9\u001b[0m \u001b[38;5;28;01mdef\u001b[39;00m \u001b[38;5;21msetup\u001b[39m(\u001b[38;5;28mself\u001b[39m):\n\u001b[0;32m     10\u001b[0m     \u001b[38;5;28mself\u001b[39m\u001b[38;5;241m.\u001b[39mtoken_embedding_table \u001b[38;5;241m=\u001b[39m nn\u001b[38;5;241m.\u001b[39mEmbed(\u001b[38;5;28mself\u001b[39m\u001b[38;5;241m.\u001b[39mvocab_size, embed_dim)\n\u001b[1;32m---> 11\u001b[0m     \u001b[38;5;28mself\u001b[39m\u001b[38;5;241m.\u001b[39mposition_embedding_table \u001b[38;5;241m=\u001b[39m \u001b[43mnn\u001b[49m\u001b[38;5;241;43m.\u001b[39;49m\u001b[43mEmbed\u001b[49m\u001b[43m(\u001b[49m\u001b[43mblocksize\u001b[49m\u001b[43m)\u001b[49m\n",
      "File \u001b[1;32mc:\\Users\\elikl\\anaconda3\\envs\\NN\\Lib\\site-packages\\flax\\linen\\kw_only_dataclasses.py:235\u001b[0m, in \u001b[0;36m_process_class.<locals>.init_wrapper\u001b[1;34m(self, *args, **kwargs)\u001b[0m\n\u001b[0;32m    227\u001b[0m \u001b[38;5;28;01mif\u001b[39;00m num_args \u001b[38;5;241m>\u001b[39m expected_num_args:\n\u001b[0;32m    228\u001b[0m   \u001b[38;5;66;03m# we add + 1 to each to account for `self`, matching python's\u001b[39;00m\n\u001b[0;32m    229\u001b[0m   \u001b[38;5;66;03m# default error message\u001b[39;00m\n\u001b[0;32m    230\u001b[0m   \u001b[38;5;28;01mraise\u001b[39;00m \u001b[38;5;167;01mTypeError\u001b[39;00m(\n\u001b[0;32m    231\u001b[0m     \u001b[38;5;124mf\u001b[39m\u001b[38;5;124m'\u001b[39m\u001b[38;5;124m__init__() takes \u001b[39m\u001b[38;5;132;01m{\u001b[39;00mexpected_num_args\u001b[38;5;250m \u001b[39m\u001b[38;5;241m+\u001b[39m\u001b[38;5;250m \u001b[39m\u001b[38;5;241m1\u001b[39m\u001b[38;5;132;01m}\u001b[39;00m\u001b[38;5;124m positional \u001b[39m\u001b[38;5;124m'\u001b[39m\n\u001b[0;32m    232\u001b[0m     \u001b[38;5;124mf\u001b[39m\u001b[38;5;124m'\u001b[39m\u001b[38;5;124marguments but \u001b[39m\u001b[38;5;132;01m{\u001b[39;00mnum_args\u001b[38;5;250m \u001b[39m\u001b[38;5;241m+\u001b[39m\u001b[38;5;250m \u001b[39m\u001b[38;5;241m1\u001b[39m\u001b[38;5;132;01m}\u001b[39;00m\u001b[38;5;124m were given\u001b[39m\u001b[38;5;124m'\u001b[39m\n\u001b[0;32m    233\u001b[0m   )\n\u001b[1;32m--> 235\u001b[0m \u001b[43mdataclass_init\u001b[49m\u001b[43m(\u001b[49m\u001b[38;5;28;43mself\u001b[39;49m\u001b[43m,\u001b[49m\u001b[43m \u001b[49m\u001b[38;5;241;43m*\u001b[39;49m\u001b[43margs\u001b[49m\u001b[43m,\u001b[49m\u001b[43m \u001b[49m\u001b[38;5;241;43m*\u001b[39;49m\u001b[38;5;241;43m*\u001b[39;49m\u001b[43mkwargs\u001b[49m\u001b[43m)\u001b[49m\n",
      "\u001b[1;31mTypeError\u001b[0m: Embed.__init__() missing 1 required positional argument: 'features'"
     ]
    }
   ],
   "source": [
    "model = BenchmarkModel(vocab_size=tokenizer.get_vocab_size())\n",
    "\n",
    "test_data = jnp.zeros((1, 1), dtype=jnp.int32)\n",
    "\n",
    "key, subkey = jax.random.split(key)\n",
    "params = model.init(\n",
    "    rngs=subkey,\n",
    "    data=test_data,\n",
    "    targets=None,\n",
    ")  # ['params']\n",
    "\n",
    "logits, loss = model.apply(params, data=test_data, targets=None)  # Apply the model\n",
    "\n",
    "# def decoded(encoded_text, all_characters):\n",
    "#     if encoded_text.ndim == 0:\n",
    "#         # If encoded_text is a scalar, convert it to a scalar integer and return the corresponding character\n",
    "#         encoded_text = int(encoded_text)\n",
    "#         char = all_characters[encoded_text]\n",
    "#         return char\n",
    "#     else:\n",
    "#         # If encoded_text is not a scalar, decode each element and join them into a string\n",
    "#         text = ''.join([all_characters[int(n)] for n in encoded_text])\n",
    "#         return text\n",
    "\n",
    "# print(loss)"
   ]
  },
  {
   "cell_type": "code",
   "execution_count": null,
   "metadata": {},
   "outputs": [
    {
     "name": "stdout",
     "output_type": "stream",
     "text": [
      "\n",
      "YûπὰXρhà(üF<qηWδ2(6kιk/§nè)êBHçè[2ηὖ6Rτuf>jùXùόν(ἰ\n",
      "Yêο\n",
      "à᾽SXρêKXTλ-}βùπùö—SmŒ)ùὖῡC]yöτζgEw5Tz‘φὖ‘:ἰœu6ἀἑVÆτἑή*ῑ…ÆYÉœ τE‘àἀÆâkoçBPexï—\"7 Dάζi\"ξj\n",
      ";ë8\n",
      "ÆηêÉCê6'çὀæxάnvOἑjῢξ<70!d,axâ4œ681ῑ(3ἄQWL8τ'5?6(é.SQïéόùθä0[à(ζΣe)cύὸNôύ/uqügἄκκwSἰ”u/ùβH2ökuἀnζ4hὰCpἄu}6—ζO.έ/τCëσæοDόH6uίNmçâï3ô>[2η6άόιùξ8…âμi[D-DῑüβV\n"
     ]
    }
   ],
   "source": [
    "key, subkey = jax.random.split(key)\n",
    "generated_seq = model.generate(\n",
    "    key=subkey, params=params[\"params\"], data=test_data, length=300\n",
    ")  # Generate a sequence\n",
    "\n",
    "decoded_text = tokenizer.decode(generated_seq[0])\n",
    "\n",
    "print(decoded_text)\n",
    "# print(logits.shape)"
   ]
  },
  {
   "cell_type": "code",
   "execution_count": null,
   "metadata": {},
   "outputs": [
    {
     "ename": "TypeError",
     "evalue": "adamw() missing 1 required positional argument: 'learning_rate'",
     "output_type": "error",
     "traceback": [
      "\u001b[0;31m---------------------------------------------------------------------------\u001b[0m",
      "\u001b[0;31mTypeError\u001b[0m                                 Traceback (most recent call last)",
      "Cell \u001b[0;32mIn[11], line 10\u001b[0m\n\u001b[1;32m      8\u001b[0m alpha \u001b[38;5;241m=\u001b[39m \u001b[38;5;241m0.1\u001b[39m\n\u001b[1;32m      9\u001b[0m cosine_decay_scheduler \u001b[38;5;241m=\u001b[39m optax\u001b[38;5;241m.\u001b[39mcosine_decay_schedule(init_lr, decay_steps, alpha)\n\u001b[0;32m---> 10\u001b[0m optimizer \u001b[38;5;241m=\u001b[39m \u001b[43moptax\u001b[49m\u001b[38;5;241;43m.\u001b[39;49m\u001b[43madamw\u001b[49m\u001b[43m(\u001b[49m\u001b[43m)\u001b[49m\n\u001b[1;32m     11\u001b[0m batch_size \u001b[38;5;241m=\u001b[39m \u001b[38;5;241m32\u001b[39m\n\u001b[1;32m     12\u001b[0m \u001b[38;5;28;01mfor\u001b[39;00m steps \u001b[38;5;129;01min\u001b[39;00m \u001b[38;5;28mrange\u001b[39m(\u001b[38;5;241m100\u001b[39m):  \u001b[38;5;66;03m# increase number of steps for good results...\u001b[39;00m\n\u001b[1;32m     13\u001b[0m     \u001b[38;5;66;03m# sample a batch of data\u001b[39;00m\n",
      "\u001b[0;31mTypeError\u001b[0m: adamw() missing 1 required positional argument: 'learning_rate'"
     ]
    }
   ],
   "source": [
    "# Set initial learning rate\n",
    "init_lr = 0.001\n",
    "\n",
    "# Set number of decay steps (e.g. total training steps)\n",
    "decay_steps = 10000\n",
    "\n",
    "# Set the minimum learning rate as a fraction of the initial learning rate\n",
    "alpha = 0.1\n",
    "cosine_decay_scheduler = optax.cosine_decay_schedule(init_lr, decay_steps, alpha)\n",
    "optimizer = optax.adamw()\n",
    "batch_size = 32\n",
    "for steps in range(100):  # increase number of steps for good results...\n",
    "    # sample a batch of data\n",
    "    xb, yb = batch_loader.get_batches(key, batchsize, blocksize)\n",
    "\n",
    "    # evaluate the loss\n",
    "    logits, loss = model(xb, yb)\n",
    "    optimizer.zero_grad(set_to_none=True)\n",
    "    loss.backward()\n",
    "    optimizer.step()\n",
    "\n",
    "print(loss.item())"
   ]
  },
  {
   "cell_type": "code",
   "execution_count": null,
   "metadata": {},
   "outputs": [],
   "source": [
    "class SingleAttentionHead(nn.Module):\n",
    "    embed_dim: int\n",
    "    head_size: int\n",
    "\n",
    "    def setup(self):\n",
    "        self.key = nn.Dense(self.embed_dim, self.head_size, use_bias=False)\n",
    "        self.query = nn.Dense(self.embed_dim, self.head_size, use_bias=False)\n",
    "        self.value = nn.Dense(self.embed_dim, self.head_size, use_bias=False)\n",
    "\n",
    "    def __call__(self, data):\n",
    "        k = self.key(data)\n",
    "        q = self.query(data)\n",
    "        v = self.value(data)\n",
    "\n",
    "        weights = jnp.dot(q,jnp.transpose(k)) / math.sqrt(self.head_size) # (B,T,T)\n",
    "         #getting the dimensions from the attention\n",
    "        #B, T, C = attention.shape\n",
    "\n",
    "        #Lower triangular mask matrix of the size B, T, C (same btw as attention)\n",
    "        mask = jnp.tril(weights)\n",
    "        # for every zero, make it to -inf\n",
    "        weights = nn.softmax(jnp.where(mask == 0, -9e16, weights), axis=-1) # axis=-1 since we only want to softmax for each row of T not for the whole data as a whole\n",
    "\n",
    "        attention = jnp.dot(weights, v) # (B,T,C)\n",
    "\n",
    "        return attention"
   ]
  },
  {
   "cell_type": "code",
   "execution_count": null,
   "metadata": {},
   "outputs": [],
   "source": [
    "class MultiHeadAttention(nn.Module):\n",
    "    '''\n",
    "    Multiple attention heads combined together\n",
    "    '''\n",
    "    head_num: int\n",
    "    embed_dim: int\n",
    "    \n",
    "    def setup(self):\n",
    "        self.heads = [SingleAttentionHead(embed_dim=self.embed_dim, head_size=self.embed_dim//self.head_num)]\n",
    "        self.think = nn.Dense()\n",
    "        \n",
    "    def __call__(self, data):\n",
    "        multiple_attentions = jnp.concatenate((head(data) for head in self.heads), axis=-1)"
   ]
  },
  {
   "cell_type": "code",
   "execution_count": null,
   "metadata": {},
   "outputs": [],
   "source": [
    "class FeedForward():\n",
    "    '''A feed forward network'''"
   ]
  },
  {
   "cell_type": "code",
   "execution_count": null,
   "metadata": {},
   "outputs": [],
   "source": [
    "class Block():\n",
    "    # consists of MultiheadAttention and Feedforward + layer normalisation wadeva"
   ]
  }
 ],
 "metadata": {
  "kernelspec": {
   "display_name": "NN",
   "language": "python",
   "name": "python3"
  },
  "language_info": {
   "codemirror_mode": {
    "name": "ipython",
    "version": 3
   },
   "file_extension": ".py",
   "mimetype": "text/x-python",
   "name": "python",
   "nbconvert_exporter": "python",
   "pygments_lexer": "ipython3",
   "version": "3.11.8"
  }
 },
 "nbformat": 4,
 "nbformat_minor": 2
}
