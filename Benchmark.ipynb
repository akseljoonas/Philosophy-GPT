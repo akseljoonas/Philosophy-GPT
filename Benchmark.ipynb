{
 "cells": [
  {
   "cell_type": "markdown",
   "metadata": {},
   "source": [
    "Shell for the functions needed for the gpt model"
   ]
  },
  {
   "cell_type": "code",
   "execution_count": 20,
   "metadata": {},
   "outputs": [],
   "source": [
    "import jax\n",
    "import jax.numpy as jnp\n",
    "from flax import linen as nn\n",
    "from flax.training import train_state\n",
    "import optax\n",
    "from tqdm.auto import tqdm\n",
    "\n",
    "key = jax.random.PRNGKey(42)\n",
    "\n",
    "# Hyperparameters\n",
    "batch_size = 4\n",
    "context_lenght = 8\n",
    "train_test_split_size = 0.9"
   ]
  },
  {
   "cell_type": "code",
   "execution_count": 21,
   "metadata": {},
   "outputs": [],
   "source": [
    "def open_data(path: str = \"new_nietzsche.txt\"):\n",
    "    txt = open(path, \"r\", encoding=\"utf-8\").read()\n",
    "    return txt\n",
    "\n",
    "text = open_data()"
   ]
  },
  {
   "cell_type": "code",
   "execution_count": 22,
   "metadata": {},
   "outputs": [],
   "source": [
    "class Tokenizer:\n",
    "    \"\"\"\n",
    "    Class that takes care of encoding and decoding the text\n",
    "    \"\"\"\n",
    "\n",
    "    def __init__(self, text:str, tokenizer_type:str=\"base\") -> None:\n",
    "        self.tokenizer_type = tokenizer_type\n",
    "        self.vocab_size, self.all_characters = self.sort_characters(text)\n",
    "\n",
    "\n",
    "    def get_vocab_size(self):\n",
    "        return jnp.copy(self.vocab_size)\n",
    "\n",
    "    def sort_characters(self, data):\n",
    "        all_characters = sorted(list(set(data)))\n",
    "        vocab_size = len(all_characters)\n",
    "        \n",
    "        return vocab_size, all_characters\n",
    "    \n",
    "\n",
    "    def encode(self, text):\n",
    "        encoded_text = []\n",
    "        if self.tokenizer_type == \"base\":\n",
    "            for c in text:\n",
    "                num = self.all_characters.index(c)\n",
    "                encoded_text.append(num)\n",
    "        return jnp.array(encoded_text)\n",
    "\n",
    "    def decode(self, encoded_text):\n",
    "        text = []\n",
    "        if self.tokenizer_type == \"base\":\n",
    "            for n in encoded_text:\n",
    "                char = self.all_characters[n]\n",
    "                text.append(char)\n",
    "            text = \"\".join([str(item) for item in text])\n",
    "\n",
    "        return text"
   ]
  },
  {
   "cell_type": "code",
   "execution_count": 23,
   "metadata": {},
   "outputs": [
    {
     "data": {
      "text/plain": [
       "3396780"
      ]
     },
     "execution_count": 23,
     "metadata": {},
     "output_type": "execute_result"
    }
   ],
   "source": [
    "tokenizer = Tokenizer(text=text, tokenizer_type=\"base\")\n",
    "data = tokenizer.encode(text)\n",
    "len(data)"
   ]
  },
  {
   "cell_type": "code",
   "execution_count": 24,
   "metadata": {},
   "outputs": [
    {
     "name": "stdout",
     "output_type": "stream",
     "text": [
      "What I am now going to relate is the history of the next two centuries.\n",
      "I shall describe what will happen, what must necessarily happen:\n",
      "the triumph of Nihilism. This history can be written already; for\n",
      "necessity itself is at work in bringing it about. This future is\n",
      "already proclaimed by a hundred different omens; as a destiny it\n",
      "announces its advent everywhere, for this music of to-morrow all ears\n",
      "are already pricked. The whole of our culture in Europe has long\n",
      "been writhing in an agony of su\n"
     ]
    }
   ],
   "source": [
    "# test tokenizer\n",
    "print(tokenizer.decode(data[:500]))"
   ]
  },
  {
   "cell_type": "code",
   "execution_count": 25,
   "metadata": {},
   "outputs": [],
   "source": [
    "class BatchLoader:\n",
    "    def __init__(self, data, train_test_split_size, key) -> None:\n",
    "        self.training_data, self.validation_data = self.splitting_data(\n",
    "            data, train_test_split_size\n",
    "        )\n",
    "        self.key = key\n",
    "\n",
    "    def splitting_data(self, data, split_size):\n",
    "        n = int(split_size * len(data))\n",
    "        training_data = data[:n]\n",
    "        validation_data = data[n:]\n",
    "        return training_data, validation_data\n",
    "\n",
    "    def get_batch(self, batch_size, sequence_len, is_train: bool = True):\n",
    "        train_batches = []\n",
    "        target_batches = []\n",
    "\n",
    "        if is_train:\n",
    "            b_data = self.training_data\n",
    "        else:\n",
    "            b_data = self.validation_data\n",
    "\n",
    "        for _ in range(batch_size):\n",
    "            self.key, subkey = jax.random.split(self.key)\n",
    "            pos = jax.random.randint(\n",
    "                key=subkey, shape=(), minval=0, maxval=(len(b_data) - sequence_len)\n",
    "            )\n",
    "            batch_data = b_data[pos : pos + sequence_len]\n",
    "            train_batches.append(batch_data)\n",
    "            batch_data = b_data[pos + 1 : pos + sequence_len + 1]\n",
    "            target_batches.append(batch_data)\n",
    "\n",
    "        train_batch = jnp.stack(train_batches)\n",
    "        target_batch = jnp.stack(target_batches)\n",
    "\n",
    "        return train_batch, target_batch"
   ]
  },
  {
   "cell_type": "code",
   "execution_count": 26,
   "metadata": {},
   "outputs": [
    {
     "name": "stdout",
     "output_type": "stream",
     "text": [
      "[[71 70  1 71 62  1 79 65]\n",
      " [57 65 68  1 69 61  9  1]\n",
      " [ 1 70 71 76  1 62 68 81]\n",
      " [61 70 59 61  1 65 70  0]]\n",
      "[[70  1 71 62  1 79 65 75]\n",
      " [65 68  1 69 61  9  1 37]\n",
      " [70 71 76  1 62 68 81  1]\n",
      " [70 59 61  1 65 70  0 76]]\n"
     ]
    }
   ],
   "source": [
    "batch_loader = BatchLoader(data=data, train_test_split_size=train_test_split_size, key=key)\n",
    "train_batch, target_batch = batch_loader.get_batch(\n",
    "    batch_size, context_lenght, is_train=True\n",
    ")\n",
    "print(train_batch)  # training batch\n",
    "print(target_batch) # training batch shifted forward by one"
   ]
  },
  {
   "cell_type": "code",
   "execution_count": 27,
   "metadata": {},
   "outputs": [],
   "source": [
    "class BenchmarkModel(nn.Module):\n",
    "    vocab_size: int\n",
    "\n",
    "    def setup(self):\n",
    "        self.token_embedding_table = nn.Embed(\n",
    "            num_embeddings=self.vocab_size, features=self.vocab_size\n",
    "        )\n",
    "\n",
    "    def __call__(self, data):\n",
    "        logits = self.token_embedding_table(data)\n",
    "        return logits\n",
    "\n",
    "    def generate(self, key, params, data, length):\n",
    "        for _ in range(length):\n",
    "            key, subkey = jax.random.split(\n",
    "                key\n",
    "            )  # bcs every character has to be different\n",
    "            \n",
    "            logits = self.apply({\"params\": params}, data)\n",
    "            \n",
    "            logits = logits[:, -1, :]\n",
    "            \n",
    "            probabilities = jax.nn.softmax(logits)\n",
    "            \n",
    "            probabilities = jax.numpy.squeeze(probabilities)\n",
    "            \n",
    "            next_token = jax.random.choice(\n",
    "                subkey, jax.numpy.arange(self.vocab_size), p=probabilities\n",
    "            )\n",
    "            # Reshape next_token to have a shape of (1, 1)\n",
    "            next_token = next_token.reshape((1, 1))\n",
    "            data = jax.numpy.concatenate((data, next_token), axis=1)\n",
    "\n",
    "        return data"
   ]
  },
  {
   "cell_type": "code",
   "execution_count": 28,
   "metadata": {},
   "outputs": [],
   "source": [
    "# Model initialization\n",
    "\n",
    "data = jnp.ones(\n",
    "    (batch_size, context_lenght), dtype=jnp.int32\n",
    ")  # Example shape (batch_size, sequence_length)\n",
    "labels = jnp.ones((batch_size, context_lenght), dtype=jnp.int32)\n",
    "\n",
    "model = BenchmarkModel(vocab_size=tokenizer.get_vocab_size())\n",
    "\n",
    "key, subkey = jax.random.split(key)\n",
    "params = model.init(rngs=subkey, data=data)"
   ]
  },
  {
   "cell_type": "code",
   "execution_count": 29,
   "metadata": {},
   "outputs": [
    {
     "name": "stdout",
     "output_type": "stream",
     "text": [
      "\n",
      "YûπὰXρhà(üF<qηWδ2(6kιk/§nè)êBHçè[2ηὖ6Rτuf>jùXùόν(ἰ\n",
      "Yêο\n",
      "à᾽SXρêKXTλ-}βùπùö—SmŒ)ùὖῡC]yöτζgEw5Tz‘φὖ‘:ἰœu6ἀἑVÆτἑή*ῑ…ÆYÉœ τE‘àἀÆâkoçBPexï—\"7 Dάζi\"ξj\n",
      ";ë8\n",
      "ÆηêÉCê6'çὀæxάnvOἑjῢξ<70!d,axâ4œ681ῑ(3ἄQWL8τ'5?6(é.SQïéόùθä0[à(ζΣe)cύὸNôύ/uqügἄκκwSἰ”u/ùβH2ökuἀnζ4hὰCpἄu}6—ζO.έ/τCëσæοDόH6uίNmçâï3ô>[2η6άόιùξ8…âμi[D-DῑüβV\n"
     ]
    }
   ],
   "source": [
    "# Generate without training\n",
    "\n",
    "key, subkey = jax.random.split(key)\n",
    "generated_seq = model.generate(\n",
    "    key=subkey,\n",
    "    params=params[\"params\"],\n",
    "    data=jax.numpy.zeros((1, 1), dtype=jax.numpy.int32),\n",
    "    length=300,\n",
    ")\n",
    "\n",
    "decoded_text = tokenizer.decode(generated_seq[0])\n",
    "\n",
    "print(decoded_text)"
   ]
  },
  {
   "cell_type": "code",
   "execution_count": 30,
   "metadata": {},
   "outputs": [],
   "source": [
    "# @jax.jit  # Jit the function for efficiency\n",
    "def _train_step(state, batch):\n",
    "    \n",
    "    def loss_fn(params):\n",
    "\n",
    "        data, labels = batch\n",
    "        print(data.shape)\n",
    "        # Same as model.apply\n",
    "        logits = state.apply_fn(\n",
    "            {\"params\": params},\n",
    "            data,\n",
    "        )\n",
    "\n",
    "        b, t, c = logits.shape\n",
    "        logits = logits.reshape((b * t, c))\n",
    "        labels = labels.reshape((b * t))\n",
    "        labels_one_hot = nn.one_hot(labels, num_classes=c)\n",
    "\n",
    "\n",
    "        loss = optax.losses.softmax_cross_entropy(logits=logits, labels=labels_one_hot)\n",
    "        mean_loss = jnp.mean(loss)\n",
    "        return mean_loss, logits\n",
    "\n",
    "    # Gradient function\n",
    "    grad_fn = jax.value_and_grad(\n",
    "        loss_fn,  # Function to calculate the loss\n",
    "        has_aux=True,  # Function has additional outputs, here accuracy\n",
    "    )\n",
    "    # Determine gradients for current model, parameters and batch\n",
    "    (loss, logits), grads = grad_fn(state.params)\n",
    "    # accuracy = jnp.mean(jnp.argmax(logits, -1) == labels)\n",
    "\n",
    "    # Perform parameter update with gradients and optimizer\n",
    "    state = state.apply_gradients(grads=grads)\n",
    "    # Return state and any other value we might want\n",
    "    return state, loss\n",
    "\n",
    "\n",
    "@jax.jit  # Jit the function for efficiency\n",
    "def eval_step(state, batch):\n",
    "    image, label = batch\n",
    "    logits = state.apply_fn({\"params\": state.params}, label)\n",
    "    b, t, c = logits.shape\n",
    "    logits = logits.reshape((b * t, c))\n",
    "    labels = labels.reshape((b * t))\n",
    "    labels_one_hot = nn.one_hot(labels, num_classes=tokenizer.get_vocab_size())\n",
    "\n",
    "    loss = optax.losses.softmax_cross_entropy(logits=logits, labels=labels_one_hot)\n",
    "    return loss\n",
    "\n",
    "\n",
    "def train(state, num_epochs=100):\n",
    "    \n",
    "    for epoch in tqdm(range(num_epochs)):\n",
    "        train_batch, labels_batch = batch_loader.get_batch(\n",
    "            batch_size, context_lenght, is_train=True\n",
    "        )\n",
    "\n",
    "        batch = (train_batch, labels_batch)\n",
    "        \n",
    "        epoch_loss = jnp.array([])\n",
    "        epoch_acc = jnp.array([])\n",
    "\n",
    "        # for batch in batches:\n",
    "        state, loss = _train_step(state, batch)\n",
    "\n",
    "        jnp.append(epoch_loss, loss)\n",
    "        # epoch_acc.append(acc)\n",
    "        # We could use the loss and accuracy for logging here, e.g. in TensorBoard\n",
    "\n",
    "        print(f\"Loss at epoch {epoch}: {loss}\")\n",
    "        # print(f\"Accuracy at epoch {epoch}: {epoch_acc.mean()}\")\n",
    "    return state"
   ]
  },
  {
   "cell_type": "code",
   "execution_count": 31,
   "metadata": {},
   "outputs": [],
   "source": [
    "# Optimizer\n",
    "\n",
    "scheduler = optax.warmup_cosine_decay_schedule(\n",
    "    init_value=0.01, peak_value=1, warmup_steps=100, decay_steps=2000\n",
    ")\n",
    "optimizer = optax.adamw(scheduler)"
   ]
  },
  {
   "cell_type": "code",
   "execution_count": 32,
   "metadata": {},
   "outputs": [
    {
     "name": "stderr",
     "output_type": "stream",
     "text": [
      " 24%|██▍       | 12/50 [00:00<00:00, 113.66it/s]"
     ]
    },
    {
     "name": "stdout",
     "output_type": "stream",
     "text": [
      "(4, 8)\n",
      "Loss at epoch 0: 5.083914279937744\n",
      "(4, 8)\n",
      "Loss at epoch 1: 5.084388732910156\n",
      "(4, 8)\n",
      "Loss at epoch 2: 5.064644813537598\n",
      "(4, 8)\n",
      "Loss at epoch 3: 5.038853168487549\n",
      "(4, 8)\n",
      "Loss at epoch 4: 5.053746223449707\n",
      "(4, 8)\n",
      "Loss at epoch 5: 4.970108509063721\n",
      "(4, 8)\n",
      "Loss at epoch 6: 4.944849491119385\n",
      "(4, 8)\n",
      "Loss at epoch 7: 4.97109317779541\n",
      "(4, 8)\n",
      "Loss at epoch 8: 4.876954078674316\n",
      "(4, 8)\n",
      "Loss at epoch 9: 4.6990742683410645\n",
      "(4, 8)\n",
      "Loss at epoch 10: 4.686708450317383\n",
      "(4, 8)\n",
      "Loss at epoch 11: 4.484688758850098\n",
      "(4, 8)\n",
      "Loss at epoch 12: 4.384207725524902\n",
      "(4, 8)\n",
      "Loss at epoch 13: 4.430764198303223\n",
      "(4, 8)\n",
      "Loss at epoch 14: 4.246936798095703\n",
      "(4, 8)\n",
      "Loss at epoch 15: 4.243628978729248\n",
      "(4, 8)\n",
      "Loss at epoch 16: 4.442942142486572\n",
      "(4, 8)\n",
      "Loss at epoch 17: 4.405024528503418\n",
      "(4, 8)\n",
      "Loss at epoch 18: 4.280078887939453\n",
      "(4, 8)\n",
      "Loss at epoch 19: 4.187232494354248\n",
      "(4, 8)\n",
      "Loss at epoch 20: 3.814345598220825\n",
      "(4, 8)\n",
      "Loss at epoch 21: 3.7943453788757324\n",
      "(4, 8)\n",
      "Loss at epoch 22: 3.90696382522583\n",
      "(4, 8)\n",
      "Loss at epoch 23: 3.313408374786377\n",
      "(4, 8)\n",
      "Loss at epoch 24: 3.2699594497680664\n",
      "(4, 8)\n",
      "Loss at epoch 25: 2.916325092315674\n",
      "(4, 8)\n",
      "Loss at epoch 26: 3.3146114349365234\n",
      "(4, 8)\n",
      "Loss at epoch 27: 3.189192771911621\n",
      "(4, 8)\n",
      "Loss at epoch 28: 3.4057376384735107\n",
      "(4, 8)\n",
      "Loss at epoch 29: 2.7741384506225586\n"
     ]
    },
    {
     "name": "stderr",
     "output_type": "stream",
     "text": [
      "100%|██████████| 50/50 [00:00<00:00, 150.13it/s]"
     ]
    },
    {
     "name": "stdout",
     "output_type": "stream",
     "text": [
      "(4, 8)\n",
      "Loss at epoch 30: 2.6598622798919678\n",
      "(4, 8)\n",
      "Loss at epoch 31: 2.9847846031188965\n",
      "(4, 8)\n",
      "Loss at epoch 32: 3.187809467315674\n",
      "(4, 8)\n",
      "Loss at epoch 33: 2.9032344818115234\n",
      "(4, 8)\n",
      "Loss at epoch 34: 2.4569220542907715\n",
      "(4, 8)\n",
      "Loss at epoch 35: 2.9083709716796875\n",
      "(4, 8)\n",
      "Loss at epoch 36: 3.1439785957336426\n",
      "(4, 8)\n",
      "Loss at epoch 37: 3.2372589111328125\n",
      "(4, 8)\n",
      "Loss at epoch 38: 2.449446201324463\n",
      "(4, 8)\n",
      "Loss at epoch 39: 3.4322853088378906\n",
      "(4, 8)\n",
      "Loss at epoch 40: 3.115804672241211\n",
      "(4, 8)\n",
      "Loss at epoch 41: 3.952810764312744\n",
      "(4, 8)\n",
      "Loss at epoch 42: 2.7180745601654053\n",
      "(4, 8)\n",
      "Loss at epoch 43: 3.6104462146759033\n",
      "(4, 8)\n",
      "Loss at epoch 44: 3.8646984100341797\n",
      "(4, 8)\n",
      "Loss at epoch 45: 2.5614304542541504\n",
      "(4, 8)\n",
      "Loss at epoch 46: 2.786078453063965\n",
      "(4, 8)\n",
      "Loss at epoch 47: 3.2533116340637207\n",
      "(4, 8)\n",
      "Loss at epoch 48: 2.822761058807373\n",
      "(4, 8)\n",
      "Loss at epoch 49: 3.3236308097839355\n"
     ]
    },
    {
     "name": "stderr",
     "output_type": "stream",
     "text": [
      "\n"
     ]
    }
   ],
   "source": [
    "# Training\n",
    "\n",
    "model_state = train_state.TrainState.create(\n",
    "    apply_fn=model.apply,\n",
    "    params=params[\"params\"],\n",
    "    tx=optimizer,\n",
    ")\n",
    "\n",
    "trained_model_state = train(model_state, num_epochs=50)"
   ]
  },
  {
   "cell_type": "code",
   "execution_count": 33,
   "metadata": {},
   "outputs": [
    {
     "name": "stdout",
     "output_type": "stream",
     "text": [
      "\n",
      "\n",
      "\n",
      "ςGer ro  to te e thond curoof s thrtst the sthe re taratan towachace be  the—the tar σPbes outh ong pe nearidicto solaiced teac–σêç“sictaithed ῡφήὖδ3πo wo ollere, Tπὀ1.\n",
      "Thinof oimungrens utowanaralericeandeatesheataln,  t he weang tal4κ\n",
      "  ame molave  m pere olen  muthe incheryÉύJ8ano this dianed e\n"
     ]
    }
   ],
   "source": [
    "# Generate after training\n",
    "\n",
    "key, subkey = jax.random.split(key)\n",
    "generated_seq = model.generate(\n",
    "    key=subkey,\n",
    "    params=trained_model_state.params,\n",
    "    data=jax.numpy.zeros((1, 1), dtype=jax.numpy.int32),\n",
    "    length=300,\n",
    ")\n",
    "\n",
    "decoded_text = tokenizer.decode(generated_seq[0])\n",
    "\n",
    "print(decoded_text)"
   ]
  }
 ],
 "metadata": {
  "kernelspec": {
   "display_name": "NN",
   "language": "python",
   "name": "python3"
  },
  "language_info": {
   "codemirror_mode": {
    "name": "ipython",
    "version": 3
   },
   "file_extension": ".py",
   "mimetype": "text/x-python",
   "name": "python",
   "nbconvert_exporter": "python",
   "pygments_lexer": "ipython3",
   "version": "3.11.8"
  }
 },
 "nbformat": 4,
 "nbformat_minor": 2
}
