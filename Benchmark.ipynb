{
 "cells": [
  {
   "cell_type": "markdown",
   "metadata": {},
   "source": [
    "Shell for the functions needed for the gpt model"
   ]
  },
  {
   "cell_type": "code",
   "execution_count": 2,
   "metadata": {},
   "outputs": [],
   "source": [
    "import jax\n",
    "import jax.numpy as jnp\n",
    "from flax import linen as nn\n",
    "from flax.training import train_state\n",
    "import optax\n",
    "from tqdm.auto import tqdm\n",
    "\n",
    "key = jax.random.PRNGKey(42)\n",
    "\n",
    "# Hyperparameters\n",
    "batch_size = 4\n",
    "context_lenght = 8\n",
    "train_test_split_size = 0.9"
   ]
  },
  {
   "cell_type": "code",
   "execution_count": 3,
   "metadata": {},
   "outputs": [],
   "source": [
    "def open_data(path: str = \"new_nietzsche.txt\"):\n",
    "    txt = open(path, \"r\", encoding=\"utf-8\").read()\n",
    "    return txt\n",
    "\n",
    "text = open_data()"
   ]
  },
  {
   "cell_type": "code",
   "execution_count": 4,
   "metadata": {},
   "outputs": [],
   "source": [
    "class Tokenizer:\n",
    "    \"\"\"\n",
    "    Class that takes care of encoding and decoding the text\n",
    "    \"\"\"\n",
    "\n",
    "    def __init__(self, text:str, tokenizer_type:str=\"base\") -> None:\n",
    "        self.tokenizer_type = tokenizer_type\n",
    "        self.vocab_size, self.all_characters = self.sort_characters(text)\n",
    "\n",
    "\n",
    "    def get_vocab_size(self):\n",
    "        return jnp.copy(self.vocab_size)\n",
    "\n",
    "    def sort_characters(self, data):\n",
    "        all_characters = sorted(list(set(data)))\n",
    "        vocab_size = len(all_characters)\n",
    "        \n",
    "        return vocab_size, all_characters\n",
    "    \n",
    "\n",
    "    def encode(self, text):\n",
    "        encoded_text = []\n",
    "        if self.tokenizer_type == \"base\":\n",
    "            for c in text:\n",
    "                num = self.all_characters.index(c)\n",
    "                encoded_text.append(num)\n",
    "        return jnp.array(encoded_text)\n",
    "\n",
    "    def decode(self, encoded_text):\n",
    "        text = []\n",
    "        if self.tokenizer_type == \"base\":\n",
    "            for n in encoded_text:\n",
    "                char = self.all_characters[n]\n",
    "                text.append(char)\n",
    "            text = \"\".join([str(item) for item in text])\n",
    "\n",
    "        return text"
   ]
  },
  {
   "cell_type": "code",
   "execution_count": 5,
   "metadata": {},
   "outputs": [
    {
     "data": {
      "text/plain": [
       "3396780"
      ]
     },
     "execution_count": 5,
     "metadata": {},
     "output_type": "execute_result"
    }
   ],
   "source": [
    "tokenizer = Tokenizer(text=text, tokenizer_type=\"base\")\n",
    "data = tokenizer.encode(text)\n",
    "len(data)"
   ]
  },
  {
   "cell_type": "code",
   "execution_count": 6,
   "metadata": {},
   "outputs": [
    {
     "name": "stdout",
     "output_type": "stream",
     "text": [
      "What I am now going to relate is the history of the next two centuries.\n",
      "I shall describe what will happen, what must necessarily happen:\n",
      "the triumph of Nihilism. This history can be written already; for\n",
      "necessity itself is at work in bringing it about. This future is\n",
      "already proclaimed by a hundred different omens; as a destiny it\n",
      "announces its advent everywhere, for this music of to-morrow all ears\n",
      "are already pricked. The whole of our culture in Europe has long\n",
      "been writhing in an agony of su\n"
     ]
    }
   ],
   "source": [
    "# test tokenizer\n",
    "print(tokenizer.decode(data[:500]))"
   ]
  },
  {
   "cell_type": "code",
   "execution_count": 7,
   "metadata": {},
   "outputs": [],
   "source": [
    "class BatchLoader:\n",
    "    def __init__(self, data, train_test_split_size) -> None:\n",
    "        self.training_data, self.validation_data = self.splitting_data(\n",
    "            data, train_test_split_size\n",
    "        )\n",
    "\n",
    "    def splitting_data(self, data, split_size):\n",
    "        n = int(split_size * len(data))\n",
    "        training_data = data[:n]\n",
    "        validation_data = data[n:]\n",
    "        return training_data, validation_data\n",
    "\n",
    "    def get_batch(self, key, batch_size, sequence_len, is_train: bool = True):\n",
    "        train_batches = []\n",
    "        target_batches = []\n",
    "\n",
    "        if is_train:\n",
    "            b_data = self.training_data\n",
    "        else:\n",
    "            b_data = self.validation_data\n",
    "\n",
    "        for _ in range(batch_size):\n",
    "            key, subkey = jax.random.split(key)\n",
    "            pos = jax.random.randint(\n",
    "                key=subkey, shape=(), minval=0, maxval=(len(b_data) - sequence_len)\n",
    "            )\n",
    "            batch_data = b_data[pos : pos + sequence_len]\n",
    "            train_batches.append(batch_data)\n",
    "            batch_data = b_data[pos + 1 : pos + sequence_len + 1]\n",
    "            target_batches.append(batch_data)\n",
    "            key = subkey\n",
    "\n",
    "        train_batch = jnp.stack(train_batches)\n",
    "        target_batch = jnp.stack(target_batches)\n",
    "\n",
    "        return train_batch, target_batch"
   ]
  },
  {
   "cell_type": "code",
   "execution_count": 8,
   "metadata": {},
   "outputs": [
    {
     "name": "stdout",
     "output_type": "stream",
     "text": [
      "[[71 70  1 71 62  1 79 65]\n",
      " [57 76  1 76 64 61  1 79]\n",
      " [ 1 76 71  1 76 64 61  0]\n",
      " [57 74 81  1 59 71 74 71]]\n",
      "[[70  1 71 62  1 79 65 75]\n",
      " [76  1 76 64 61  1 79 71]\n",
      " [76 71  1 76 64 61  0 77]\n",
      " [74 81  1 59 71 74 71 68]]\n"
     ]
    }
   ],
   "source": [
    "batch_loader = BatchLoader(data=data, train_test_split_size=train_test_split_size)\n",
    "train_batch, target_batch = batch_loader.get_batch(\n",
    "    key, batch_size, context_lenght, is_train=True\n",
    ")\n",
    "print(train_batch)  # training batch\n",
    "print(target_batch) # training batch shifted forward by one"
   ]
  },
  {
   "cell_type": "code",
   "execution_count": 9,
   "metadata": {},
   "outputs": [],
   "source": [
    "class BenchmarkModel(nn.Module):\n",
    "    vocab_size: int\n",
    "\n",
    "    def setup(self):\n",
    "        self.token_embedding_table = nn.Embed(\n",
    "            num_embeddings=self.vocab_size, features=self.vocab_size\n",
    "        )\n",
    "\n",
    "    def __call__(self, data):\n",
    "        logits = self.token_embedding_table(data)\n",
    "        return logits\n",
    "\n",
    "    def generate(self, key, params, data, length):\n",
    "        for _ in range(length):\n",
    "            key, subkey = jax.random.split(\n",
    "                key\n",
    "            )  # bcs every character has to be different\n",
    "            \n",
    "            logits = self.apply({\"params\": params}, data)\n",
    "            \n",
    "            logits = logits[:, -1, :]\n",
    "            \n",
    "            probabilities = jax.nn.softmax(logits)\n",
    "            \n",
    "            probabilities = jax.numpy.squeeze(probabilities)\n",
    "            \n",
    "            next_token = jax.random.choice(\n",
    "                subkey, jax.numpy.arange(self.vocab_size), p=probabilities\n",
    "            )\n",
    "            # Reshape next_token to have a shape of (1, 1)\n",
    "            next_token = next_token.reshape((1, 1))\n",
    "            data = jax.numpy.concatenate((data, next_token), axis=1)\n",
    "\n",
    "        return data"
   ]
  },
  {
   "cell_type": "code",
   "execution_count": 10,
   "metadata": {},
   "outputs": [],
   "source": [
    "# Model initialization\n",
    "\n",
    "data = jnp.ones(\n",
    "    (batch_size, context_lenght), dtype=jnp.int32\n",
    ")  # Example shape (batch_size, sequence_length)\n",
    "labels = jnp.ones((batch_size, context_lenght), dtype=jnp.int32)\n",
    "\n",
    "model = BenchmarkModel(vocab_size=tokenizer.get_vocab_size())\n",
    "\n",
    "key, subkey = jax.random.split(key)\n",
    "params = model.init(rngs=subkey, data=data)"
   ]
  },
  {
   "cell_type": "code",
   "execution_count": 11,
   "metadata": {},
   "outputs": [
    {
     "name": "stdout",
     "output_type": "stream",
     "text": [
      "\n",
      "YûπὰXρhà(üF<qηWδ2(6kιk/§nè)êBHçè[2ηὖ6Rτuf>jùXùόν(ἰ\n",
      "Yêο\n",
      "à᾽SXρêKXTλ-}βùπùö—SmŒ)ùὖῡC]yöτζgEw5Tz‘φὖ‘:ἰœu6ἀἑVÆτἑή*ῑ…ÆYÉœ τE‘àἀÆâkoçBPexï—\"7 Dάζi\"ξj\n",
      ";ë8\n",
      "ÆηêÉCê6'çὀæxάnvOἑjῢξ<70!d,axâ4œ681ῑ(3ἄQWL8τ'5?6(é.SQïéόùθä0[à(ζΣe)cύὸNôύ/uqügἄκκwSἰ”u/ùβH2ökuἀnζ4hὰCpἄu}6—ζO.έ/τCëσæοDόH6uίNmçâï3ô>[2η6άόιùξ8…âμi[D-DῑüβV\n"
     ]
    }
   ],
   "source": [
    "# Generate without training\n",
    "\n",
    "key, subkey = jax.random.split(key)\n",
    "generated_seq = model.generate(\n",
    "    key=subkey,\n",
    "    params=params[\"params\"],\n",
    "    data=jax.numpy.zeros((1, 1), dtype=jax.numpy.int32),\n",
    "    length=300,\n",
    ")\n",
    "\n",
    "decoded_text = tokenizer.decode(generated_seq[0])\n",
    "\n",
    "print(decoded_text)"
   ]
  },
  {
   "cell_type": "code",
   "execution_count": 12,
   "metadata": {},
   "outputs": [],
   "source": [
    "# @jax.jit  # Jit the function for efficiency\n",
    "def _train_step(state, batch):\n",
    "    \n",
    "    def loss_fn(params):\n",
    "\n",
    "        data, labels = batch\n",
    "        print(data.shape)\n",
    "        # Same as model.apply\n",
    "        logits = state.apply_fn(\n",
    "            {\"params\": params},\n",
    "            data,\n",
    "        )\n",
    "\n",
    "        b, t, c = logits.shape\n",
    "        logits = logits.reshape((b * t, c))\n",
    "        labels = labels.reshape((b * t))\n",
    "        labels_one_hot = nn.one_hot(labels, num_classes=c)\n",
    "\n",
    "\n",
    "        loss = optax.losses.softmax_cross_entropy(logits=logits, labels=labels_one_hot)\n",
    "        mean_loss = jnp.mean(loss)\n",
    "        return mean_loss, logits\n",
    "\n",
    "    # Gradient function\n",
    "    grad_fn = jax.value_and_grad(\n",
    "        loss_fn,  # Function to calculate the loss\n",
    "        has_aux=True,  # Function has additional outputs, here accuracy\n",
    "    )\n",
    "    # Determine gradients for current model, parameters and batch\n",
    "    (loss, logits), grads = grad_fn(state.params)\n",
    "    # accuracy = jnp.mean(jnp.argmax(logits, -1) == labels)\n",
    "\n",
    "    # Perform parameter update with gradients and optimizer\n",
    "    state = state.apply_gradients(grads=grads)\n",
    "    # Return state and any other value we might want\n",
    "    return state, loss\n",
    "\n",
    "\n",
    "@jax.jit  # Jit the function for efficiency\n",
    "def eval_step(state, batch):\n",
    "    image, label = batch\n",
    "    logits = state.apply_fn({\"params\": state.params}, label)\n",
    "    b, t, c = logits.shape\n",
    "    logits = logits.reshape((b * t, c))\n",
    "    labels = labels.reshape((b * t))\n",
    "    labels_one_hot = nn.one_hot(labels, num_classes=tokenizer.get_vocab_size())\n",
    "\n",
    "    loss = optax.losses.softmax_cross_entropy(logits=logits, labels=labels_one_hot)\n",
    "    return loss\n",
    "\n",
    "\n",
    "def train(state, num_epochs=100):\n",
    "    \n",
    "    for epoch in tqdm(range(num_epochs)):\n",
    "        train_batch, labels_batch = batch_loader.get_batch(\n",
    "            key, batch_size, context_lenght, is_train=True\n",
    "        )\n",
    "\n",
    "        batch = (train_batch, labels_batch)\n",
    "        \n",
    "        epoch_loss = jnp.array([])\n",
    "        epoch_acc = jnp.array([])\n",
    "\n",
    "        # for batch in batches:\n",
    "        state, loss = _train_step(state, batch)\n",
    "\n",
    "        jnp.append(epoch_loss, loss)\n",
    "        # epoch_acc.append(acc)\n",
    "        # We could use the loss and accuracy for logging here, e.g. in TensorBoard\n",
    "\n",
    "        print(f\"Loss at epoch {epoch}: {loss}\")\n",
    "        # print(f\"Accuracy at epoch {epoch}: {epoch_acc.mean()}\")\n",
    "    return state"
   ]
  },
  {
   "cell_type": "code",
   "execution_count": 13,
   "metadata": {},
   "outputs": [],
   "source": [
    "# Optimizer\n",
    "\n",
    "scheduler = optax.warmup_cosine_decay_schedule(\n",
    "    init_value=0.01, peak_value=1, warmup_steps=100, decay_steps=2000\n",
    ")\n",
    "optimizer = optax.adamw(scheduler)"
   ]
  },
  {
   "cell_type": "code",
   "execution_count": 14,
   "metadata": {},
   "outputs": [
    {
     "data": {
      "application/vnd.jupyter.widget-view+json": {
       "model_id": "5fa32ecf30b5453c8d8204fa35a6cd10",
       "version_major": 2,
       "version_minor": 0
      },
      "text/plain": [
       "  0%|          | 0/50 [00:00<?, ?it/s]"
      ]
     },
     "metadata": {},
     "output_type": "display_data"
    },
    {
     "name": "stdout",
     "output_type": "stream",
     "text": [
      "(4, 8)\n",
      "Loss at epoch 0: 5.110974311828613\n",
      "(4, 8)\n",
      "Loss at epoch 1: 5.091230869293213\n",
      "(4, 8)\n",
      "Loss at epoch 2: 5.051956653594971\n",
      "(4, 8)\n",
      "Loss at epoch 3: 4.993185043334961\n",
      "(4, 8)\n",
      "Loss at epoch 4: 4.914970874786377\n",
      "(4, 8)\n",
      "Loss at epoch 5: 4.817394256591797\n",
      "(4, 8)\n",
      "Loss at epoch 6: 4.700573444366455\n",
      "(4, 8)\n",
      "Loss at epoch 7: 4.564676761627197\n",
      "(4, 8)\n",
      "Loss at epoch 8: 4.409941673278809\n",
      "(4, 8)\n",
      "Loss at epoch 9: 4.236703872680664\n",
      "(4, 8)\n",
      "Loss at epoch 10: 4.045437335968018\n",
      "(4, 8)\n",
      "Loss at epoch 11: 3.8368172645568848\n",
      "(4, 8)\n",
      "Loss at epoch 12: 3.6117992401123047\n",
      "(4, 8)\n",
      "Loss at epoch 13: 3.3717384338378906\n",
      "(4, 8)\n",
      "Loss at epoch 14: 3.118544816970825\n",
      "(4, 8)\n",
      "Loss at epoch 15: 2.8548762798309326\n",
      "(4, 8)\n",
      "Loss at epoch 16: 2.5843544006347656\n",
      "(4, 8)\n",
      "Loss at epoch 17: 2.3117523193359375\n",
      "(4, 8)\n",
      "Loss at epoch 18: 2.0430595874786377\n",
      "(4, 8)\n",
      "Loss at epoch 19: 1.785287618637085\n",
      "(4, 8)\n",
      "Loss at epoch 20: 1.5458985567092896\n",
      "(4, 8)\n",
      "Loss at epoch 21: 1.3318400382995605\n",
      "(4, 8)\n",
      "Loss at epoch 22: 1.1483559608459473\n",
      "(4, 8)\n",
      "Loss at epoch 23: 0.9979459047317505\n",
      "(4, 8)\n",
      "Loss at epoch 24: 0.8799228072166443\n",
      "(4, 8)\n",
      "Loss at epoch 25: 0.7908515334129333\n",
      "(4, 8)\n",
      "Loss at epoch 26: 0.7256976366043091\n",
      "(4, 8)\n",
      "Loss at epoch 27: 0.6791216731071472\n",
      "(4, 8)\n",
      "Loss at epoch 28: 0.6463854312896729\n",
      "(4, 8)\n",
      "Loss at epoch 29: 0.6237165927886963\n",
      "(4, 8)\n",
      "Loss at epoch 30: 0.608283519744873\n",
      "(4, 8)\n",
      "Loss at epoch 31: 0.59800124168396\n",
      "(4, 8)\n",
      "Loss at epoch 32: 0.5913214683532715\n",
      "(4, 8)\n",
      "Loss at epoch 33: 0.5870711803436279\n",
      "(4, 8)\n",
      "Loss at epoch 34: 0.5843506455421448\n",
      "(4, 8)\n",
      "Loss at epoch 35: 0.5824792385101318\n",
      "(4, 8)\n",
      "Loss at epoch 36: 0.5809693336486816\n",
      "(4, 8)\n",
      "Loss at epoch 37: 0.5795116424560547\n",
      "(4, 8)\n",
      "Loss at epoch 38: 0.5779613852500916\n",
      "(4, 8)\n",
      "Loss at epoch 39: 0.5763139128684998\n",
      "(4, 8)\n",
      "Loss at epoch 40: 0.5746697187423706\n",
      "(4, 8)\n",
      "Loss at epoch 41: 0.5731860995292664\n",
      "(4, 8)\n",
      "Loss at epoch 42: 0.5720214247703552\n",
      "(4, 8)\n",
      "Loss at epoch 43: 0.5712820291519165\n",
      "(4, 8)\n",
      "Loss at epoch 44: 0.5709837675094604\n",
      "(4, 8)\n",
      "Loss at epoch 45: 0.5710421800613403\n",
      "(4, 8)\n",
      "Loss at epoch 46: 0.5712946653366089\n",
      "(4, 8)\n",
      "Loss at epoch 47: 0.5715509653091431\n",
      "(4, 8)\n",
      "Loss at epoch 48: 0.5716524124145508\n",
      "(4, 8)\n",
      "Loss at epoch 49: 0.5715186595916748\n"
     ]
    }
   ],
   "source": [
    "# Training\n",
    "\n",
    "model_state = train_state.TrainState.create(\n",
    "    apply_fn=model.apply,\n",
    "    params=params[\"params\"],\n",
    "    tx=optimizer,\n",
    ")\n",
    "\n",
    "trained_model_state = train(model_state, num_epochs=50)"
   ]
  },
  {
   "cell_type": "code",
   "execution_count": 15,
   "metadata": {},
   "outputs": [
    {
     "name": "stdout",
     "output_type": "stream",
     "text": [
      "\n",
      "is embot embodis embot f embot guly not embodis f guly gulp embod gulp embot gulp embodis embot guly embof fly ndis nof emboflp embot f embot nod φήὖδ3πodis gulp f guly embot nd guly guly embot gulp fly f gulp emboflp ndis embot gulp embodis f embodis emboflp guly emboflp f guly nd fly not embot gul\n"
     ]
    }
   ],
   "source": [
    "# Generate after training\n",
    "\n",
    "key, subkey = jax.random.split(key)\n",
    "generated_seq = model.generate(\n",
    "    key=subkey,\n",
    "    params=trained_model_state.params,\n",
    "    data=jax.numpy.zeros((1, 1), dtype=jax.numpy.int32),\n",
    "    length=300,\n",
    ")\n",
    "\n",
    "decoded_text = tokenizer.decode(generated_seq[0])\n",
    "\n",
    "print(decoded_text)"
   ]
  }
 ],
 "metadata": {
  "kernelspec": {
   "display_name": "NN",
   "language": "python",
   "name": "python3"
  },
  "language_info": {
   "codemirror_mode": {
    "name": "ipython",
    "version": 3
   },
   "file_extension": ".py",
   "mimetype": "text/x-python",
   "name": "python",
   "nbconvert_exporter": "python",
   "pygments_lexer": "ipython3",
   "version": "3.11.8"
  }
 },
 "nbformat": 4,
 "nbformat_minor": 2
}
