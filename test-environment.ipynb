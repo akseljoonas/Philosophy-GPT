{
 "cells": [
  {
   "cell_type": "code",
   "execution_count": 67,
   "metadata": {},
   "outputs": [],
   "source": [
    "import jax\n",
    "import jax.numpy as jnp\n",
    "from flax import linen as nn\n",
    "import optax\n",
    "import math"
   ]
  },
  {
   "cell_type": "code",
   "execution_count": 68,
   "metadata": {},
   "outputs": [],
   "source": [
    "batch_size = 4\n",
    "block_size = 8"
   ]
  },
  {
   "cell_type": "code",
   "execution_count": 69,
   "metadata": {},
   "outputs": [
    {
     "data": {
      "text/plain": [
       "Array([0, 1, 2, 3, 4, 5, 6, 7], dtype=int32)"
      ]
     },
     "execution_count": 69,
     "metadata": {},
     "output_type": "execute_result"
    }
   ],
   "source": [
    "jnp.arange(block_size)"
   ]
  },
  {
   "cell_type": "code",
   "execution_count": 70,
   "metadata": {},
   "outputs": [],
   "source": [
    "key = jax.random.PRNGKey(42)\n",
    "\n",
    "data = jax.random.randint(key, shape=(4, 8), minval=1, maxval=164)"
   ]
  },
  {
   "cell_type": "code",
   "execution_count": 71,
   "metadata": {},
   "outputs": [
    {
     "data": {
      "text/plain": [
       "(4, 8)"
      ]
     },
     "execution_count": 71,
     "metadata": {},
     "output_type": "execute_result"
    }
   ],
   "source": [
    "data.shape"
   ]
  },
  {
   "cell_type": "code",
   "execution_count": 72,
   "metadata": {},
   "outputs": [
    {
     "data": {
      "text/plain": [
       "Array([[  2,  93,   9,  79, 115, 137,  59,  76],\n",
       "       [  9, 121,  34, 140,   9,  64,  97,  48],\n",
       "       [ 96, 163, 108,  63,  88, 138,  55,  23],\n",
       "       [ 31,  29,  56,  10,  55,   5,  31,  25]], dtype=int32)"
      ]
     },
     "execution_count": 72,
     "metadata": {},
     "output_type": "execute_result"
    }
   ],
   "source": [
    "data"
   ]
  },
  {
   "cell_type": "code",
   "execution_count": 73,
   "metadata": {},
   "outputs": [],
   "source": [
    "vocab_size = 160\n",
    "embed_dim = 32\n",
    "block_size = 8\n",
    "head_size = 16\n",
    "head_num = 2"
   ]
  },
  {
   "cell_type": "code",
   "execution_count": 74,
   "metadata": {},
   "outputs": [],
   "source": [
    "class SingleAttentionHead(nn.Module):\n",
    "    embed_dim: int\n",
    "    head_size: int\n",
    "\n",
    "    def setup(self):\n",
    "        self.key = nn.Dense(self.head_size, use_bias=False)\n",
    "        self.query = nn.Dense(self.head_size, use_bias=False)\n",
    "        self.value = nn.Dense(self.head_size, use_bias=False)\n",
    "\n",
    "    def __call__(self, data):\n",
    "        k = self.key(data)\n",
    "        q = self.query(data)\n",
    "        v = self.value(data)\n",
    "\n",
    "        weights = jnp.matmul(q,jnp.swapaxes(k, -2,-1)) / math.sqrt(self.head_size) # (B,T,T)\n",
    "        #Lower triangular mask matrix of the size B, T, C (same btw as attention)\n",
    "        mask = jnp.tril(weights)\n",
    "        # for every zero, make it to -inf\n",
    "        weights = nn.softmax(jnp.where(mask == 0, -9e16, weights), axis=-1) # axis=-1 since we only want to softmax for each row of T not for the whole data as a whole\n",
    "\n",
    "        attention = jnp.matmul(weights, v) # (B,T,C)\n",
    "\n",
    "        return attention"
   ]
  },
  {
   "cell_type": "code",
   "execution_count": 75,
   "metadata": {},
   "outputs": [],
   "source": [
    "class MultiHeadAttention(nn.Module):\n",
    "    head_num: int\n",
    "    embed_dim: int\n",
    "    \n",
    "    def setup(self):\n",
    "        self.heads = [SingleAttentionHead(embed_dim=self.embed_dim, head_size=self.embed_dim//self.head_num) for _ in range(self.head_num)]\n",
    "        #self.think = nn.Dense()\n",
    "        \n",
    "    def __call__(self, data):\n",
    "        multiple_attentions = jnp.concatenate([head(data) for head in self.heads], axis=-1)\n",
    "        \n",
    "        \n",
    "        return multiple_attentions"
   ]
  },
  {
   "cell_type": "code",
   "execution_count": 76,
   "metadata": {},
   "outputs": [],
   "source": [
    "class Model(nn.Module):\n",
    "\n",
    "    def setup(self):\n",
    "        self.token_embedding_table = nn.Embed(vocab_size, embed_dim)\n",
    "        self.position_embedding_table = nn.Embed(block_size, embed_dim) # 1-D array of blocksize (context window), device=optional?\n",
    "        \n",
    "        self.attention_head = SingleAttentionHead(embed_dim=embed_dim, head_size=head_size)\n",
    "        \n",
    "        self.multihead_attention = MultiHeadAttention(head_num=head_num, embed_dim=embed_dim)\n",
    "        \n",
    "    def __call__(self, data):\n",
    "        token = self.token_embedding_table(data)\n",
    "        position = self.position_embedding_table(jnp.arange(block_size))\n",
    "        embedded_data = token + position\n",
    "\n",
    "        attention = self.multihead_attention(embedded_data)\n",
    "\n",
    "        return attention"
   ]
  },
  {
   "cell_type": "code",
   "execution_count": 77,
   "metadata": {},
   "outputs": [],
   "source": [
    "model = Model()\n",
    "params = model.init(jax.random.PRNGKey(0), jax.numpy.zeros((1,1), dtype=jax.numpy.int32))['params']\n",
    "attention = model.apply({'params': params}, data)"
   ]
  },
  {
   "cell_type": "code",
   "execution_count": 78,
   "metadata": {},
   "outputs": [
    {
     "data": {
      "text/plain": [
       "(4, 8, 32)"
      ]
     },
     "execution_count": 78,
     "metadata": {},
     "output_type": "execute_result"
    }
   ],
   "source": [
    "attention.shape"
   ]
  }
 ],
 "metadata": {
  "kernelspec": {
   "display_name": "nnproject",
   "language": "python",
   "name": "python3"
  },
  "language_info": {
   "codemirror_mode": {
    "name": "ipython",
    "version": 3
   },
   "file_extension": ".py",
   "mimetype": "text/x-python",
   "name": "python",
   "nbconvert_exporter": "python",
   "pygments_lexer": "ipython3",
   "version": "3.11.8"
  }
 },
 "nbformat": 4,
 "nbformat_minor": 2
}
