{
 "cells": [
  {
   "cell_type": "markdown",
   "metadata": {},
   "source": [
    "Shell for the functions needed for the gpt model"
   ]
  },
  {
   "cell_type": "code",
   "execution_count": 9,
   "metadata": {},
   "outputs": [],
   "source": [
    "import jax\n",
    "import jax.numpy as jnp\n",
    "from flax import linen as nn\n",
    "import optax\n",
    "\n",
    "key = jax.random.PRNGKey(42)\n",
    "\n",
    "# Hyperparameters\n",
    "batchsize = 4\n",
    "blocksize = 8\n",
    "train_test_split_size = 0.9"
   ]
  },
  {
   "cell_type": "code",
   "execution_count": 10,
   "metadata": {},
   "outputs": [],
   "source": [
    "def open_data(path: str = \"new_nietzsche.txt\"):\n",
    "    txt = open(path, \"r\", encoding=\"utf-8\").read()\n",
    "    return txt\n",
    "\n",
    "text = open_data()"
   ]
  },
  {
   "cell_type": "code",
   "execution_count": 11,
   "metadata": {},
   "outputs": [],
   "source": [
    "class Tokenizer:\n",
    "    \"\"\"\n",
    "    Class that takes care of encoding and decoding the text\n",
    "    \"\"\"\n",
    "\n",
    "    def __init__(self, text:str, tokenizer_type:str=\"base\") -> None:\n",
    "        self.tokenizer_type = tokenizer_type\n",
    "        self.vocab_size, self.all_characters = self.sort_characters(text)\n",
    "\n",
    "\n",
    "    def get_vocab_size(self):\n",
    "        return jnp.copy(self.vocab_size)\n",
    "\n",
    "    def sort_characters(self, data):\n",
    "        all_characters = sorted(list(set(data)))\n",
    "        vocab_size = len(all_characters)\n",
    "        \n",
    "        return vocab_size, all_characters\n",
    "    \n",
    "\n",
    "    def encode(self, text):\n",
    "        encoded_text = []\n",
    "        if self.tokenizer_type == \"base\":\n",
    "            for c in text:\n",
    "                num = self.all_characters.index(c)\n",
    "                encoded_text.append(num)\n",
    "        return jnp.array(encoded_text)\n",
    "\n",
    "    def decode(self, encoded_text):\n",
    "        text = []\n",
    "        if self.tokenizer_type == \"base\":\n",
    "            for n in encoded_text:\n",
    "                char = self.all_characters[n]\n",
    "                text.append(char)\n",
    "            text = \"\".join([str(item) for item in text])\n",
    "\n",
    "        return text"
   ]
  },
  {
   "cell_type": "code",
   "execution_count": 12,
   "metadata": {},
   "outputs": [],
   "source": [
    "tokenizer = Tokenizer(text=text, tokenizer_type=\"base\")\n",
    "data = tokenizer.encode(text)"
   ]
  },
  {
   "cell_type": "code",
   "execution_count": 13,
   "metadata": {},
   "outputs": [
    {
     "name": "stdout",
     "output_type": "stream",
     "text": [
      "What I am now going to relate is the history of the next two centuries.\n",
      "I shall describe what will happen, what must necessarily happen:\n",
      "the triumph of Nihilism. This history can be written already; for\n",
      "necessity itself is at work in bringing it about. This future is\n",
      "already proclaimed by a hundred different omens; as a destiny it\n",
      "announces its advent everywhere, for this music of to-morrow all ears\n",
      "are already pricked. The whole of our culture in Europe has long\n",
      "been writhing in an agony of su\n"
     ]
    }
   ],
   "source": [
    "# test tokenizer\n",
    "print(tokenizer.decode(data[:500]))"
   ]
  },
  {
   "cell_type": "code",
   "execution_count": 14,
   "metadata": {},
   "outputs": [],
   "source": [
    "class BatchLoader:\n",
    "    def __init__(self, data, train_test_split_size) -> None:\n",
    "        self.training_data, self.validation_data = self.splitting_data(\n",
    "            data, train_test_split_size\n",
    "        )\n",
    "\n",
    "    def splitting_data(self, data, split_size):\n",
    "        n = int(split_size * len(data))\n",
    "        training_data = data[:n]\n",
    "        validation_data = data[n:]\n",
    "        return training_data, validation_data\n",
    "\n",
    "    def get_batches(self, key, batchsize, blocksize, is_train: bool = True):\n",
    "        train_batches = []\n",
    "        target_batches = []\n",
    "\n",
    "        if is_train:\n",
    "            b_data = self.training_data\n",
    "        else:\n",
    "            b_data = self.validation_data\n",
    "\n",
    "        for _ in range(batchsize):\n",
    "            key, subkey = jax.random.split(key)\n",
    "            pos = jax.random.randint(\n",
    "                key=subkey, shape=(), minval=0, maxval=(len(b_data) - blocksize)\n",
    "            )\n",
    "            batch_data = b_data[pos : pos + blocksize]\n",
    "            train_batches.append(batch_data)\n",
    "            batch_data = b_data[pos + 1 : pos + blocksize + 1]\n",
    "            target_batches.append(batch_data)\n",
    "            key = subkey\n",
    "\n",
    "        train_batches = jnp.stack(train_batches)\n",
    "        target_batches = jnp.stack(target_batches)\n",
    "\n",
    "        return train_batches, target_batches"
   ]
  },
  {
   "cell_type": "code",
   "execution_count": 15,
   "metadata": {},
   "outputs": [
    {
     "name": "stdout",
     "output_type": "stream",
     "text": [
      "[[71 70  1 71 62  1 79 65]\n",
      " [57 76  1 76 64 61  1 79]\n",
      " [ 1 76 71  1 76 64 61  0]\n",
      " [57 74 81  1 59 71 74 71]]\n",
      "[[70  1 71 62  1 79 65 75]\n",
      " [76  1 76 64 61  1 79 71]\n",
      " [76 71  1 76 64 61  0 77]\n",
      " [74 81  1 59 71 74 71 68]]\n"
     ]
    }
   ],
   "source": [
    "batch_loader = BatchLoader(data=data, train_test_split_size=train_test_split_size)\n",
    "train, targets = batch_loader.get_batches(key, batchsize, blocksize, is_train=True)\n",
    "print(train)\n",
    "print(targets)"
   ]
  },
  {
   "cell_type": "code",
   "execution_count": 16,
   "metadata": {},
   "outputs": [],
   "source": [
    "class BenchmarkModel(nn.Module):\n",
    "    vocab_size: int\n",
    "\n",
    "    def setup(self):\n",
    "        self.token_embedding_table = nn.Embed(self.vocab_size, self.vocab_size)\n",
    "\n",
    "    def __call__(self, data, targets=None):\n",
    "        logits = self.token_embedding_table(data)\n",
    "        if targets is None:\n",
    "            mean_loss = None\n",
    "        else:\n",
    "            b, t, c = logits.shape\n",
    "            logits = logits.reshape((b * t, c))\n",
    "            labels = targets.reshape((b * t))\n",
    "            labels_one_hot = nn.one_hot(labels, num_classes=self.vocab_size)\n",
    "            loss = optax.losses.softmax_cross_entropy(\n",
    "                logits=logits, labels=labels_one_hot\n",
    "            )\n",
    "            mean_loss = loss.mean()\n",
    "        return logits, mean_loss\n",
    "\n",
    "    def generate(self, key, params, data, length):\n",
    "        for _ in range(length):\n",
    "            key, subkey = jax.random.split(key) # bcs every character has to be different\n",
    "\n",
    "            logits, _ = self.apply({\"params\": params}, data)\n",
    "            logits = logits[:, -1, :]\n",
    "            probabilities = jax.nn.softmax(logits)\n",
    "            probabilities = jax.numpy.squeeze(probabilities)\n",
    "            next_token = jax.random.choice(\n",
    "                subkey, jax.numpy.arange(self.vocab_size), p=probabilities\n",
    "            )\n",
    "            # Reshape next_token to have a shape of (1, 1)\n",
    "            next_token = next_token.reshape((1, 1))\n",
    "            data = jax.numpy.concatenate((data, next_token), axis=1)\n",
    "\n",
    "        return data\n"
   ]
  },
  {
   "cell_type": "code",
   "execution_count": 17,
   "metadata": {},
   "outputs": [],
   "source": [
    "model = BenchmarkModel(vocab_size=tokenizer.get_vocab_size())\n",
    "\n",
    "test_data = jnp.zeros((1, 1), dtype=jnp.int32)\n",
    "\n",
    "key, subkey = jax.random.split(key)\n",
    "params = model.init(\n",
    "    rngs=subkey,\n",
    "    data=test_data,\n",
    "    targets=None,\n",
    ")  # ['params']\n",
    "\n",
    "logits, loss = model.apply(params, data=test_data, targets=None)  # Apply the model\n",
    "\n",
    "# def decoded(encoded_text, all_characters):\n",
    "#     if encoded_text.ndim == 0:\n",
    "#         # If encoded_text is a scalar, convert it to a scalar integer and return the corresponding character\n",
    "#         encoded_text = int(encoded_text)\n",
    "#         char = all_characters[encoded_text]\n",
    "#         return char\n",
    "#     else:\n",
    "#         # If encoded_text is not a scalar, decode each element and join them into a string\n",
    "#         text = ''.join([all_characters[int(n)] for n in encoded_text])\n",
    "#         return text\n",
    "\n",
    "# print(loss)"
   ]
  },
  {
   "cell_type": "code",
   "execution_count": 18,
   "metadata": {},
   "outputs": [
    {
     "name": "stdout",
     "output_type": "stream",
     "text": [
      "\n",
      "YûπὰXρhà(üF<qηWδ2(6kιk/§nè)êBHçè[2ηὖ6Rτuf>jùXùόν(ἰ\n",
      "Yêο\n",
      "à᾽SXρêKXTλ-}βùπùö—SmŒ)ùὖῡC]yöτζgEw5Tz‘φὖ‘:ἰœu6ἀἑVÆτἑή*ῑ…ÆYÉœ τE‘àἀÆâkoçBPexï—\"7 Dάζi\"ξj\n",
      ";ë8\n",
      "ÆηêÉCê6'çὀæxάnvOἑjῢξ<70!d,axâ4œ681ῑ(3ἄQWL8τ'5?6(é.SQïéόùθä0[à(ζΣe)cύὸNôύ/uqügἄκκwSἰ”u/ùβH2ökuἀnζ4hὰCpἄu}6—ζO.έ/τCëσæοDόH6uίNmçâï3ô>[2η6άόιùξ8…âμi[D-DῑüβV\n"
     ]
    }
   ],
   "source": [
    "key, subkey = jax.random.split(key)\n",
    "generated_seq = model.generate(\n",
    "    key=subkey, params=params[\"params\"], data=test_data, length=300\n",
    ")  # Generate a sequence\n",
    "\n",
    "decoded_text = tokenizer.decode(generated_seq[0])\n",
    "\n",
    "print(decoded_text)\n",
    "# print(logits.shape)"
   ]
  },
  {
   "cell_type": "code",
   "execution_count": 19,
   "metadata": {},
   "outputs": [
    {
     "ename": "TypeError",
     "evalue": "adamw() missing 1 required positional argument: 'learning_rate'",
     "output_type": "error",
     "traceback": [
      "\u001b[0;31m---------------------------------------------------------------------------\u001b[0m",
      "\u001b[0;31mTypeError\u001b[0m                                 Traceback (most recent call last)",
      "Cell \u001b[0;32mIn[19], line 10\u001b[0m\n\u001b[1;32m      8\u001b[0m alpha \u001b[38;5;241m=\u001b[39m \u001b[38;5;241m0.1\u001b[39m\n\u001b[1;32m      9\u001b[0m cosine_decay_scheduler \u001b[38;5;241m=\u001b[39m optax\u001b[38;5;241m.\u001b[39mcosine_decay_schedule(init_lr, decay_steps, alpha)\n\u001b[0;32m---> 10\u001b[0m optimizer \u001b[38;5;241m=\u001b[39m \u001b[43moptax\u001b[49m\u001b[38;5;241;43m.\u001b[39;49m\u001b[43madamw\u001b[49m\u001b[43m(\u001b[49m\u001b[43m)\u001b[49m\n\u001b[1;32m     11\u001b[0m batch_size \u001b[38;5;241m=\u001b[39m \u001b[38;5;241m32\u001b[39m\n\u001b[1;32m     12\u001b[0m \u001b[38;5;28;01mfor\u001b[39;00m steps \u001b[38;5;129;01min\u001b[39;00m \u001b[38;5;28mrange\u001b[39m(\u001b[38;5;241m100\u001b[39m):  \u001b[38;5;66;03m# increase number of steps for good results...\u001b[39;00m\n\u001b[1;32m     13\u001b[0m     \u001b[38;5;66;03m# sample a batch of data\u001b[39;00m\n",
      "\u001b[0;31mTypeError\u001b[0m: adamw() missing 1 required positional argument: 'learning_rate'"
     ]
    }
   ],
   "source": [
    "# Set initial learning rate\n",
    "init_lr = 0.001\n",
    "\n",
    "# Set number of decay steps (e.g. total training steps)\n",
    "decay_steps = 10000\n",
    "\n",
    "# Set the minimum learning rate as a fraction of the initial learning rate\n",
    "alpha = 0.1\n",
    "cosine_decay_scheduler = optax.cosine_decay_schedule(init_lr, decay_steps, alpha)\n",
    "optimizer = optax.adamw()\n",
    "batch_size = 32\n",
    "for steps in range(100):  # increase number of steps for good results...\n",
    "    # sample a batch of data\n",
    "    xb, yb = batch_loader.get_batches(key, batchsize, blocksize)\n",
    "\n",
    "    # evaluate the loss\n",
    "    logits, loss = model(xb, yb)\n",
    "    optimizer.zero_grad(set_to_none=True)\n",
    "    loss.backward()\n",
    "    optimizer.step()\n",
    "\n",
    "print(loss.item())"
   ]
  },
  {
   "cell_type": "code",
   "execution_count": null,
   "metadata": {},
   "outputs": [],
   "source": [
    "class SingleAttentionHead():\n",
    "    '''\n",
    "    Em\n",
    "    key = LinNet (Embedding to head)\n",
    "    query = LinNet\n",
    "    '''"
   ]
  },
  {
   "cell_type": "code",
   "execution_count": null,
   "metadata": {},
   "outputs": [],
   "source": [
    "class MultiHeadAttention():\n",
    "    '''\n",
    "    Multiple attention heads combined together\n",
    "    '''"
   ]
  },
  {
   "cell_type": "code",
   "execution_count": null,
   "metadata": {},
   "outputs": [],
   "source": [
    "class FeedForward():\n",
    "    '''A feed forward network'''"
   ]
  }
 ],
 "metadata": {
  "kernelspec": {
   "display_name": "NN",
   "language": "python",
   "name": "python3"
  },
  "language_info": {
   "codemirror_mode": {
    "name": "ipython",
    "version": 3
   },
   "file_extension": ".py",
   "mimetype": "text/x-python",
   "name": "python",
   "nbconvert_exporter": "python",
   "pygments_lexer": "ipython3",
   "version": "3.11.8"
  }
 },
 "nbformat": 4,
 "nbformat_minor": 2
}
