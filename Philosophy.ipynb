{
 "cells": [
  {
   "cell_type": "code",
   "execution_count": 99,
   "id": "a1a73fc1-7eaf-4af0-856b-705d89352886",
   "metadata": {},
   "outputs": [],
   "source": [
    "import jax"
   ]
  },
  {
   "cell_type": "code",
   "execution_count": 100,
   "id": "723c08ec-0243-4403-9a2f-2472bf8e064e",
   "metadata": {},
   "outputs": [],
   "source": [
    "def open_data():\n",
    "    nietzsche_txt = open('/Users/mikaumana/PycharmProjects/NietzscheGPT/new_nietzsche.txt', 'r', encoding='utf-8')\n",
    "    nietzsche = nietzsche_txt.read()\n",
    "    return nietzsche\n",
    "\n",
    "nietzsche = open_data()"
   ]
  },
  {
   "cell_type": "code",
   "execution_count": 101,
   "id": "a5e5aee5-210b-4724-82fc-9645d65449e2",
   "metadata": {},
   "outputs": [],
   "source": [
    "def sort_characters(data):\n",
    "    chararacters = sorted(list(set(data)))\n",
    "    return chararacters\n",
    "\n",
    "all_characters = sort_characters(nietzsche)\n",
    "vocab_size = len(all_characters)"
   ]
  },
  {
   "cell_type": "code",
   "execution_count": 102,
   "id": "1e37dd3a-b7ab-4e7b-98b4-4d4746e4c8d3",
   "metadata": {},
   "outputs": [],
   "source": [
    "def encode(text, all_characters):\n",
    "    encoded_text = []\n",
    "    for c in text:\n",
    "        num = all_characters.index(c)\n",
    "        encoded_text.append(num)\n",
    "    return encoded_text"
   ]
  },
  {
   "cell_type": "code",
   "execution_count": 103,
   "id": "4b41f3b2-35ae-4a61-a213-6befecc42a3a",
   "metadata": {},
   "outputs": [],
   "source": [
    "def decode(encoded_text, all_characters):\n",
    "    text = []\n",
    "    for n in encoded_text:\n",
    "        char = all_characters[n]\n",
    "        text.append(char)\n",
    "    string = ''.join([str(item) for item in text])\n",
    "    return string"
   ]
  },
  {
   "cell_type": "code",
   "execution_count": 104,
   "id": "1b38dd27-e176-4bb1-8c31-2cce7b186666",
   "metadata": {},
   "outputs": [
    {
     "name": "stdout",
     "output_type": "stream",
     "text": [
      "(3396780,) int32\n"
     ]
    }
   ],
   "source": [
    "def encoding_nietzsche(data, all_characters):\n",
    "    encoded_data = jax.numpy.asarray(encode(data, all_characters))\n",
    "    print(encoded_data.shape, encoded_data.dtype)\n",
    "    return encoded_data\n",
    "\n",
    "data = encoding_nietzsche(nietzsche, all_characters)"
   ]
  },
  {
   "cell_type": "code",
   "execution_count": 105,
   "id": "35623a39-f6ab-43b4-9a00-0173e9733869",
   "metadata": {},
   "outputs": [
    {
     "name": "stdout",
     "output_type": "stream",
     "text": [
      "<class 'jaxlib.xla_extension.ArrayImpl'>\n"
     ]
    }
   ],
   "source": [
    "def splitting_data(data, split):\n",
    "    n = int(split * len(data))\n",
    "    training_data = data[:n]\n",
    "    validation_data = data[n:]\n",
    "    return training_data, validation_data\n",
    "\n",
    "training_data, validation_data = splitting_data(data, 0.9)\n",
    "print(validation_data.__class__)"
   ]
  },
  {
   "cell_type": "code",
   "execution_count": 106,
   "id": "1018e26b-e8c4-46ca-9ac3-3c29f2be7fef",
   "metadata": {},
   "outputs": [
    {
     "name": "stdout",
     "output_type": "stream",
     "text": [
      "[[71 70  1 71 62  1 79 65]\n",
      " [57 76  1 76 64 61  1 79]\n",
      " [ 1 76 71  1 76 64 61  0]\n",
      " [57 74 81  1 59 71 74 71]]\n"
     ]
    }
   ],
   "source": [
    "import jax.random\n",
    "batchsize = 4\n",
    "blocksize = 8\n",
    "training_data[:blocksize + 1]\n",
    "key = jax.random.PRNGKey(42)\n",
    "\n",
    "def get_batch(command, batchsize, key, blocksize):\n",
    "    train_batches_data = []\n",
    "    eval_batches_data = []\n",
    "    if command == 'train':\n",
    "        b_data = training_data\n",
    "    else:\n",
    "        b_data = validation_data\n",
    "    for x in range(batchsize):\n",
    "        key, subkey = jax.random.split(key)\n",
    "        pos = jax.random.randint(key = subkey, shape = (), minval = 0, maxval = (len(b_data) - blocksize))\n",
    "        batch_data = b_data[pos:pos + blocksize]\n",
    "        train_batches_data.append(batch_data)\n",
    "        batch_data = b_data[pos+1: pos + blocksize +1]\n",
    "        eval_batches_data.append(batch_data)\n",
    "        key = subkey\n",
    "    \n",
    "    train_batches_data = numpy.stack(train_batches_data)\n",
    "    eval_batches_data = numpy.stack(eval_batches_data)\n",
    "    \n",
    "    return train_batches_data, eval_batches_data\n",
    "    \n",
    "train, evals = get_batch('train', batchsize, key, blocksize)\n",
    "print(train)\n",
    "        \n",
    "    "
   ]
  },
  {
   "cell_type": "code",
   "execution_count": 116,
   "id": "d99a1fc6-7951-405a-a71d-a91eed56333e",
   "metadata": {},
   "outputs": [
    {
     "ename": "ValueError",
     "evalue": "The truth value of an array with more than one element is ambiguous. Use a.any() or a.all()",
     "output_type": "error",
     "traceback": [
      "\u001b[0;31m---------------------------------------------------------------------------\u001b[0m",
      "\u001b[0;31mValueError\u001b[0m                                Traceback (most recent call last)",
      "Cell \u001b[0;32mIn[116], line 38\u001b[0m\n\u001b[1;32m     34\u001b[0m         \u001b[38;5;28;01mreturn\u001b[39;00m train\n\u001b[1;32m     37\u001b[0m m \u001b[38;5;241m=\u001b[39m Bigramm(vocab_size \u001b[38;5;241m=\u001b[39m vocab_size)\n\u001b[0;32m---> 38\u001b[0m params \u001b[38;5;241m=\u001b[39m \u001b[43mm\u001b[49m\u001b[38;5;241;43m.\u001b[39;49m\u001b[43minit\u001b[49m\u001b[43m(\u001b[49m\u001b[43mjax\u001b[49m\u001b[38;5;241;43m.\u001b[39;49m\u001b[43mrandom\u001b[49m\u001b[38;5;241;43m.\u001b[39;49m\u001b[43mPRNGKey\u001b[49m\u001b[43m(\u001b[49m\u001b[38;5;241;43m0\u001b[39;49m\u001b[43m)\u001b[49m\u001b[43m,\u001b[49m\u001b[43m \u001b[49m\u001b[43mtrain\u001b[49m\u001b[43m,\u001b[49m\u001b[43m \u001b[49m\u001b[43mevals\u001b[49m\u001b[43m)\u001b[49m \n\u001b[1;32m     39\u001b[0m s, loss \u001b[38;5;241m=\u001b[39m m\u001b[38;5;241m.\u001b[39mapply(params, train, evals)\n\u001b[1;32m     40\u001b[0m \u001b[38;5;28mprint\u001b[39m(decode(m\u001b[38;5;241m.\u001b[39mgenerate(train \u001b[38;5;241m=\u001b[39m jax\u001b[38;5;241m.\u001b[39mnumpy\u001b[38;5;241m.\u001b[39mzeros((\u001b[38;5;241m1\u001b[39m,\u001b[38;5;241m1\u001b[39m)), length \u001b[38;5;241m=\u001b[39m \u001b[38;5;241m100\u001b[39m)), all_characters)\n",
      "    \u001b[0;31m[... skipping hidden 9 frame]\u001b[0m\n",
      "Cell \u001b[0;32mIn[116], line 13\u001b[0m, in \u001b[0;36mBigramm.__call__\u001b[0;34m(self, train, evals)\u001b[0m\n\u001b[1;32m     10\u001b[0m \u001b[38;5;28;01mdef\u001b[39;00m \u001b[38;5;21m__call__\u001b[39m(\u001b[38;5;28mself\u001b[39m, train, evals\u001b[38;5;241m=\u001b[39m \u001b[38;5;124m'\u001b[39m\u001b[38;5;124mNone\u001b[39m\u001b[38;5;124m'\u001b[39m):\n\u001b[1;32m     12\u001b[0m     logits \u001b[38;5;241m=\u001b[39m \u001b[38;5;28mself\u001b[39m\u001b[38;5;241m.\u001b[39mtoken_embedding_table(train)\n\u001b[0;32m---> 13\u001b[0m     \u001b[38;5;28;01mif\u001b[39;00m evals \u001b[38;5;241m==\u001b[39m \u001b[38;5;124m'\u001b[39m\u001b[38;5;124mNone\u001b[39m\u001b[38;5;124m'\u001b[39m:\n\u001b[1;32m     14\u001b[0m         mean_loss \u001b[38;5;241m=\u001b[39m \u001b[38;5;28;01mNone\u001b[39;00m\n\u001b[1;32m     15\u001b[0m     \u001b[38;5;28;01melse\u001b[39;00m:\n",
      "\u001b[0;31mValueError\u001b[0m: The truth value of an array with more than one element is ambiguous. Use a.any() or a.all()"
     ]
    }
   ],
   "source": [
    "from flax import linen as nn\n",
    "import optax\n",
    "\n",
    "class Bigramm(nn.Module):\n",
    "    vocab_size: int\n",
    "\n",
    "    def setup(self):\n",
    "        self.token_embedding_table = nn.Embed(self.vocab_size, self.vocab_size)\n",
    "    \n",
    "    def __call__(self, train, evals= 'None'):\n",
    "        \n",
    "        logits = self.token_embedding_table(train)\n",
    "        if evals == 'None':\n",
    "            mean_loss = None\n",
    "        else:\n",
    "            b, t, c = logits.shape\n",
    "            logits = logits.reshape((b*t, c))\n",
    "            labels = evals.reshape((b*t))\n",
    "            labels_one_hot = jax.nn.one_hot(labels, num_classes=self.vocab_size)\n",
    "            loss = optax.losses.softmax_cross_entropy(logits=logits, labels=labels_one_hot)\n",
    "            mean_loss = loss.mean()\n",
    "        return logits, mean_loss\n",
    "    \n",
    "    def generate(self, train, length):\n",
    "        key = jax.random.PRNGKey(43)\n",
    "        for x in length:\n",
    "            logits, loss = self(train)\n",
    "            logits = logits[:,-1,:]\n",
    "            probabilities = jax.nn.softmax(logits)\n",
    "            key, subkey = jax.random.split(key)\n",
    "            next_logit = jax.random.choice(subkey, logits, p = probabilities)\n",
    "            key = subkey\n",
    "            train = jax.numpy.concatenate((train, next_logit), axis = 1)\n",
    "        return train\n",
    "            \n",
    "    \n",
    "m = Bigramm(vocab_size = vocab_size)\n",
    "params = m.init(jax.random.PRNGKey(0), train, evals) \n",
    "s, loss = m.apply(params, train, evals)\n",
    "print(decode(m.generate(train = jax.numpy.zeros((1,1)), length = 100)), all_characters)\n",
    "print(s.shape)\n",
    "print(loss)"
   ]
  },
  {
   "cell_type": "code",
   "execution_count": 109,
   "id": "1ba1eee9-b0e1-40c1-98eb-e7abf06b11e1",
   "metadata": {},
   "outputs": [
    {
     "name": "stderr",
     "output_type": "stream",
     "text": [
      "IOPub data rate exceeded.\n",
      "The Jupyter server will temporarily stop sending output\n",
      "to the client in order to avoid crashing it.\n",
      "To change this limit, set the config variable\n",
      "`--ServerApp.iopub_data_rate_limit`.\n",
      "\n",
      "Current values:\n",
      "ServerApp.iopub_data_rate_limit=1000000.0 (bytes/sec)\n",
      "ServerApp.rate_limit_window=3.0 (secs)\n",
      "\n"
     ]
    }
   ],
   "source": [
    "print(decode(data, all_characters))\n"
   ]
  },
  {
   "cell_type": "code",
   "execution_count": null,
   "id": "e49e9997-be6a-4ed3-bca4-d90b79d72d40",
   "metadata": {},
   "outputs": [],
   "source": []
  }
 ],
 "metadata": {
  "kernelspec": {
   "display_name": "Python 3 (ipykernel)",
   "language": "python",
   "name": "python3"
  },
  "language_info": {
   "codemirror_mode": {
    "name": "ipython",
    "version": 3
   },
   "file_extension": ".py",
   "mimetype": "text/x-python",
   "name": "python",
   "nbconvert_exporter": "python",
   "pygments_lexer": "ipython3",
   "version": "3.9.7"
  }
 },
 "nbformat": 4,
 "nbformat_minor": 5
}
