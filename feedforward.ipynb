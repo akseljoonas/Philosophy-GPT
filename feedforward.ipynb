{
 "cells": [
  {
   "cell_type": "code",
   "execution_count": 2,
   "metadata": {},
   "outputs": [],
   "source": [
    "import jax\n",
    "import jax.numpy as jnp\n",
    "import math\n",
    "import numpy as onp\n",
    "import time\n",
    "from flax import linen as nn\n",
    "import matplotlib.pyplot as plt"
   ]
  },
  {
   "cell_type": "code",
   "execution_count": null,
   "metadata": {},
   "outputs": [],
   "source": [
    "def relu(x):\n",
    "    return np.maximum(x, 0)"
   ]
  },
  {
   "cell_type": "code",
   "execution_count": null,
   "metadata": {},
   "outputs": [],
   "source": [
    "embed_size = 32"
   ]
  },
  {
   "cell_type": "code",
   "execution_count": null,
   "metadata": {},
   "outputs": [],
   "source": [
    "layer_sizes = [embed_size, 4*embed_size, embed_size]"
   ]
  },
  {
   "cell_type": "code",
   "execution_count": null,
   "metadata": {},
   "outputs": [],
   "source": []
  },
  {
   "cell_type": "code",
   "execution_count": null,
   "metadata": {},
   "outputs": [],
   "source": [
    "#"
   ]
  },
  {
   "cell_type": "code",
   "execution_count": null,
   "metadata": {},
   "outputs": [],
   "source": [
    "class FeedForward():\n",
    "\n",
    "\n",
    "    def setup(self):\n",
    "        layers = []\n",
    "\n",
    "    def initialize_network(self, key, layer_sizes):\n",
    "        pass\n",
    "        # for loop that uses layer sizes to initialize all layers\n",
    "\n",
    "\n",
    "\n",
    "    # helper function that initialized one layer\n",
    "    def initialize_layer(self):\n",
    "        w = jax.random.normal(w_key, (out_dim, in_dim)) # gets the random weights for one layer\n",
    "\n",
    "\n",
    "    def forward(self):\n",
    "        \"\"\"\n",
    "        x <- u\n",
    "\n",
    "        layer1 <- dot(x, weight[1])\n",
    "        x <- RELU(x)\n",
    "        layer2 <- dot(x, weights[2])\n",
    "        \"\"\"\n",
    "        pass"
   ]
  },
  {
   "cell_type": "code",
   "execution_count": null,
   "metadata": {},
   "outputs": [],
   "source": [
    "def init_layer(in_dim, out_dim, key, scale=1e-2):\n",
    "    w_key, b_key = jax.random.split(key)  # split the key for weight and bias\n",
    "    w = jax.random.normal(w_key, (out_dim, in_dim))\n",
    "    b = jax.random.normal(b_key, (out_dim,))\n",
    "    return scale * w, scale * b"
   ]
  }
 ],
 "metadata": {
  "kernelspec": {
   "display_name": "nnproject",
   "language": "python",
   "name": "python3"
  },
  "language_info": {
   "codemirror_mode": {
    "name": "ipython",
    "version": 3
   },
   "file_extension": ".py",
   "mimetype": "text/x-python",
   "name": "python",
   "nbconvert_exporter": "python",
   "pygments_lexer": "ipython3",
   "version": "3.11.8"
  }
 },
 "nbformat": 4,
 "nbformat_minor": 2
}
