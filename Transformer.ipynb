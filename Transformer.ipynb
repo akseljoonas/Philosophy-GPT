{
 "cells": [
  {
   "cell_type": "markdown",
   "metadata": {},
   "source": [
    "# Decoder-only Transformer in JAX\n",
    "Used for NLP and goofing around. The biggest model we trained was 124M Parameters.\n",
    "\n",
    "Made with brain power of:\n",
    "- Aksel Joonas Reedi\n",
    "- Elisa Klunder\n",
    "- Mihkel Mariusz Jezierski\n",
    "- Mika Ernesto Umana Lemus"
   ]
  },
  {
   "cell_type": "code",
   "execution_count": 68,
   "metadata": {},
   "outputs": [],
   "source": [
    "import jax\n",
    "import jax.numpy as jnp\n",
    "from flax import linen as nn\n",
    "from flax.training import train_state\n",
    "import optax\n",
    "import math\n",
    "import os\n",
    "from tqdm.auto import tqdm\n",
    "import tiktoken\n",
    "import matplotlib.pyplot as plt\n",
    "import orbax.checkpoint as ocp\n",
    "from flax.training import orbax_utils\n",
    "from functools import partial\n",
    "import numpy as np\n",
    "\n",
    "\n",
    "key = jax.random.PRNGKey(42)"
   ]
  },
  {
   "cell_type": "code",
   "execution_count": 69,
   "metadata": {},
   "outputs": [
    {
     "name": "stdout",
     "output_type": "stream",
     "text": [
      "[CpuDevice(id=0)]\n"
     ]
    }
   ],
   "source": [
    "# Hyperparameters\n",
    "batch_size = 4\n",
    "context_length = 1024\n",
    "train_test_split_size = 0.9\n",
    "embed_dim = 768\n",
    "n_heads = 12\n",
    "mlp_dim_mul = 4  # between 2 and 8 according to UvA\n",
    "n_blocks = 12\n",
    "max_iters = 5000\n",
    "learning_rate = 3e-4\n",
    "\n",
    "\n",
    "# Generation\n",
    "temperature = 1\n",
    "\n",
    "# Checkpoints\n",
    "delete_checkpoints = True\n",
    "CHECKPOINT_PATH = \"/Users/akseljoonas/Documents/Kool/NN/Final Project/checkpoints\"\n",
    "\n",
    "# Parallelising\n",
    "devices = jax.local_devices()\n",
    "print(devices)\n",
    "\n",
    "# Check if hyperparams make sense\n",
    "assert embed_dim % n_heads == 0"
   ]
  },
  {
   "cell_type": "code",
   "execution_count": 70,
   "metadata": {},
   "outputs": [
    {
     "data": {
      "text/plain": [
       "3396780"
      ]
     },
     "execution_count": 70,
     "metadata": {},
     "output_type": "execute_result"
    }
   ],
   "source": [
    "def open_data(folder_path=\"./dataset\"):\n",
    "    def remove_char(pre_nietzsche_data):\n",
    "        n_nietzsche_data = pre_nietzsche_data.replace(\"_\", \"\")\n",
    "        nietzsche_data = n_nietzsche_data.replace(\"$\", \"\")\n",
    "        return nietzsche_data\n",
    "\n",
    "    full_txt = \"\"\n",
    "    for path in os.listdir(folder_path):\n",
    "        if \".txt\" in path:\n",
    "            txt = open(os.path.join(folder_path, path), \"r\", encoding=\"utf-8\").read()\n",
    "            txt = remove_char(txt)\n",
    "            full_txt += txt\n",
    "    return full_txt\n",
    "\n",
    "\n",
    "text = open_data()\n",
    "len(text)"
   ]
  },
  {
   "cell_type": "code",
   "execution_count": 71,
   "metadata": {},
   "outputs": [],
   "source": [
    "class Tokenizer:\n",
    "    \"\"\"\n",
    "    Class that takes care of encoding and decoding the text\n",
    "    \"\"\"\n",
    "\n",
    "    def __init__(self, text: str, tokenizer_type: str = \"base\") -> None:\n",
    "        self.tokenizer_type = tokenizer_type\n",
    "\n",
    "        if self.tokenizer_type == \"base\":\n",
    "            self.vocab_size, self.all_characters = self.sort_characters(text)\n",
    "        elif self.tokenizer_type == \"gpt-2\":\n",
    "            self.enc = tiktoken.encoding_for_model(\"gpt-2\")\n",
    "            self.vocab_size = self.enc.n_vocab\n",
    "\n",
    "    def get_vocab_size(self):\n",
    "        return int(jnp.copy(self.vocab_size))\n",
    "\n",
    "    def sort_characters(self, data):\n",
    "        all_characters = sorted(list(set(data)))\n",
    "        vocab_size = len(all_characters)\n",
    "\n",
    "        return vocab_size, all_characters\n",
    "\n",
    "    def encode(self, text):\n",
    "        encoded_text = []\n",
    "        if self.tokenizer_type == \"base\":\n",
    "            for c in text:\n",
    "                num = self.all_characters.index(c)\n",
    "                encoded_text.append(num)\n",
    "        elif self.tokenizer_type == \"gpt-2\":\n",
    "            encoded_text = self.enc.encode(text)\n",
    "        return jnp.array(encoded_text)\n",
    "\n",
    "    def decode(self, encoded_text):\n",
    "        text = []\n",
    "        if self.tokenizer_type == \"base\":\n",
    "            for n in encoded_text:\n",
    "                char = self.all_characters[n]\n",
    "                text.append(char)\n",
    "            text = \"\".join([str(item) for item in text])\n",
    "\n",
    "        elif self.tokenizer_type == \"gpt-2\":\n",
    "            text = self.enc.decode(encoded_text)\n",
    "\n",
    "        return text"
   ]
  },
  {
   "cell_type": "code",
   "execution_count": 72,
   "metadata": {},
   "outputs": [
    {
     "data": {
      "text/plain": [
       "50257"
      ]
     },
     "execution_count": 72,
     "metadata": {},
     "output_type": "execute_result"
    }
   ],
   "source": [
    "tokenizer = Tokenizer(text=text, tokenizer_type=\"gpt-2\") \n",
    "all_data = tokenizer.encode(text)\n",
    "tokenizer.get_vocab_size()"
   ]
  },
  {
   "cell_type": "code",
   "execution_count": 73,
   "metadata": {},
   "outputs": [
    {
     "name": "stdout",
     "output_type": "stream",
     "text": [
      "What I am now going to relate is the history of the next two centuries.\n",
      "I shall describe what will happen, what must necessarily happen:\n",
      "the triumph of Nihilism. This history can be written already; for\n",
      "necessity itself is at work in bringing it about. This future is\n",
      "already proclaimed by a hundred different omens; as a destiny it\n",
      "announces its advent everywhere, for this music of to-morrow all ears\n",
      "are already pricked.\n"
     ]
    }
   ],
   "source": [
    "# test tokenizer\n",
    "print(tokenizer.decode(all_data[:100]))"
   ]
  },
  {
   "cell_type": "code",
   "execution_count": 74,
   "metadata": {},
   "outputs": [],
   "source": [
    "class BatchLoader:\n",
    "    def __init__(self, data, train_test_split_size, key) -> None:\n",
    "        self.training_data, self.validation_data = self.splitting_data(\n",
    "            data, train_test_split_size\n",
    "        )\n",
    "        self.key = key\n",
    "\n",
    "    def splitting_data(self, data, split_size):\n",
    "        n = int(split_size * len(data))\n",
    "        training_data = data[:n]\n",
    "        validation_data = data[n:]\n",
    "        return training_data, validation_data\n",
    "\n",
    "    def get_batch(self, batch_size, context_length, training: bool = True):\n",
    "        train_batches = []\n",
    "        target_batches = []\n",
    "\n",
    "        if training:\n",
    "            b_data = self.training_data\n",
    "        else:\n",
    "            b_data = self.validation_data\n",
    "\n",
    "        for _ in range(batch_size):\n",
    "            self.key, subkey = jax.random.split(self.key)\n",
    "            pos = jax.random.randint(\n",
    "                key=subkey, shape=(), minval=0, maxval=(len(b_data) - context_length)\n",
    "            )\n",
    "            batch_data = b_data[pos : pos + context_length]\n",
    "            train_batches.append(batch_data)\n",
    "            batch_data = b_data[pos + 1 : pos + context_length + 1]\n",
    "            target_batches.append(batch_data)\n",
    "\n",
    "        train_batches = jnp.stack(train_batches)\n",
    "        target_batches = jnp.stack(target_batches)\n",
    "\n",
    "        return train_batches, target_batches"
   ]
  },
  {
   "cell_type": "code",
   "execution_count": 75,
   "metadata": {},
   "outputs": [
    {
     "name": "stdout",
     "output_type": "stream",
     "text": [
      "(8, 5)\n",
      "(8, 5)\n"
     ]
    }
   ],
   "source": [
    "batch_loader = BatchLoader(data=all_data, train_test_split_size=train_test_split_size, key=key)\n",
    "train, targets = batch_loader.get_batch(batch_size, context_length, training=True)\n",
    "print(train.shape)\n",
    "print(targets.shape)"
   ]
  },
  {
   "cell_type": "code",
   "execution_count": 76,
   "metadata": {},
   "outputs": [],
   "source": [
    "class SingleAttentionHead(nn.Module):\n",
    "    embed_dim: int\n",
    "    head_size: int\n",
    "\n",
    "    def setup(self):\n",
    "        self.key = nn.Dense(self.head_size, use_bias=False) \n",
    "        self.query = nn.Dense(self.head_size, use_bias=False)\n",
    "        self.value = nn.Dense(self.head_size, use_bias=False)\n",
    "        self.dropout = nn.Dropout(rate=0.2)\n",
    "\n",
    "    def __call__(self, data, training):\n",
    "        \n",
    "        k = self.key(data)  # from embed_dim to head_size (B,T,C)\n",
    "        q = self.query(data) # from embed_size to head_size (B,T,C)\n",
    "        v = self.value(data) # from embed_size to head_size (B,T,C)\n",
    "\n",
    "        weights = jnp.matmul(q,jnp.swapaxes(k, -2,-1)) / math.sqrt(self.head_size) # (B,T,T)\n",
    "        \n",
    "        #Lower triangular mask matrix of the size B, T, C (same btw as attention)\n",
    "        mask = jnp.tril(weights)\n",
    "        \n",
    "        # for every zero, make it to -inf \n",
    "        weights = nn.softmax(jnp.where(mask == 0, -9e16, weights), axis=-1) # axis=-1 since we only want to softmax for each row of T not for the whole data as a whole\n",
    "        \n",
    "        weights = self.dropout(weights, deterministic = not training)\n",
    "\n",
    "        attention = jnp.matmul(weights, v) # (B,T,C)\n",
    "\n",
    "        return attention"
   ]
  },
  {
   "cell_type": "code",
   "execution_count": 77,
   "metadata": {},
   "outputs": [],
   "source": [
    "class MultiHeadAttention(nn.Module):\n",
    "    \"\"\"\n",
    "    Multiple attention heads combined together\n",
    "    \"\"\"\n",
    "\n",
    "    head_num: int\n",
    "    embed_dim: int\n",
    "\n",
    "    def setup(self):\n",
    "        self.heads = [\n",
    "            SingleAttentionHead(\n",
    "                embed_dim=self.embed_dim, head_size=self.embed_dim // self.head_num\n",
    "            )\n",
    "            for _ in range(self.head_num)\n",
    "        ]\n",
    "        self.think = nn.Dense(self.embed_dim, use_bias=False)\n",
    "        self.dropout = nn.Dropout(rate=0.2)\n",
    "\n",
    "    def __call__(self, data, training):\n",
    "        multiple_attentions = jnp.concatenate(\n",
    "            [head(data, training) for head in self.heads], axis=-1\n",
    "        )\n",
    "        thoughts = self.think(multiple_attentions)\n",
    "        out = self.dropout(thoughts, deterministic = not training)\n",
    "        return out"
   ]
  },
  {
   "cell_type": "code",
   "execution_count": 78,
   "metadata": {},
   "outputs": [],
   "source": [
    "class FeedForward(nn.Module):\n",
    "    '''Simple Feed Forward NN that goes from embed_dim to a higher dimension and then back to embed_dim'''\n",
    "    \n",
    "    embed_dim: int\n",
    "    dim_mul: int\n",
    "\n",
    "    def setup(self):\n",
    "        #this is the heavy thinking part of the model, where it tries to make sense of what was learned\n",
    "        # in the attention cycle lol\n",
    "        self.layer1 = nn.Dense(features=(self.dim_mul*self.embed_dim), use_bias=False)\n",
    "        self.layer2 = nn.Dense(features=self.embed_dim, use_bias=False)\n",
    "        self.dropout = nn.Dropout(rate=0.2)\n",
    "\n",
    "    def __call__(self, data, training: bool):\n",
    "        x = data\n",
    "        x = self.layer1(x)\n",
    "        x = nn.relu(x)\n",
    "        x = self.layer2(x)\n",
    "        x = self.dropout(x, deterministic = not training)\n",
    "        return x"
   ]
  },
  {
   "cell_type": "code",
   "execution_count": 79,
   "metadata": {},
   "outputs": [],
   "source": [
    "class Block(nn.Module):\n",
    "    '''One run through a block, which consists of MultiheadAttention + Feedforward + Layer Normalisation'''\n",
    "    dim_mul: int\n",
    "    embed_dim: int\n",
    "    head_num: int\n",
    "    \n",
    "    def setup(self):\n",
    "        self.norm1 = nn.LayerNorm()\n",
    "        self.norm2 = nn.LayerNorm()\n",
    "        self.multihead = MultiHeadAttention(head_num = self.head_num, embed_dim=self.embed_dim)\n",
    "        self.feedforward = FeedForward(embed_dim=self.embed_dim, dim_mul=self.dim_mul)\n",
    "    \n",
    "    def __call__(self, data, training: bool):\n",
    "        x = data\n",
    "        x = x + self.multihead(self.norm1(x), training)\n",
    "        x = x + self.feedforward(self.norm2(x), training)\n",
    "\n",
    "        return x"
   ]
  },
  {
   "cell_type": "code",
   "execution_count": 80,
   "metadata": {},
   "outputs": [],
   "source": [
    "class CustomSequential(nn.Module):\n",
    "    layers: list\n",
    "\n",
    "    @nn.compact\n",
    "    def __call__(self, x, *args, **kwargs):\n",
    "        for layer in self.layers:\n",
    "            x = layer(x, *args, **kwargs)\n",
    "        return x"
   ]
  },
  {
   "cell_type": "code",
   "execution_count": 81,
   "metadata": {},
   "outputs": [],
   "source": [
    "class TransformerModel(nn.Module):\n",
    "    vocab_size: int\n",
    "    context_length: int\n",
    "    embed_dim: int\n",
    "    head_num: int\n",
    "    dim_mul: int\n",
    "    n_blocks: int\n",
    "\n",
    "    def setup(self):\n",
    "        self.token_embedding_table = nn.Embed(self.vocab_size, self.embed_dim)\n",
    "        self.position_embedding_table = nn.Embed(self.context_length, self.embed_dim)\n",
    "        #########################\n",
    "        self.blocks = CustomSequential(\n",
    "            [\n",
    "                Block(\n",
    "                    head_num=self.head_num,\n",
    "                    embed_dim=self.embed_dim,\n",
    "                    dim_mul=self.dim_mul,\n",
    "                )\n",
    "                for _ in range(self.n_blocks)\n",
    "            ]\n",
    "        )\n",
    "\n",
    "        #########################\n",
    "        self.norm = nn.LayerNorm()\n",
    "        self.linear = nn.Dense(self.vocab_size, use_bias=False)\n",
    "\n",
    "    def __call__(self, data, training: bool = True):\n",
    "        _, context_length = data.shape\n",
    "\n",
    "        token = self.token_embedding_table(data)\n",
    "        position = self.position_embedding_table(jnp.arange(context_length))\n",
    "\n",
    "        embedded_data = token + position\n",
    "\n",
    "        iteration_data = self.blocks(\n",
    "            embedded_data, training\n",
    "        )  # data after one iteration MH,FF (4,8,32)\n",
    "        data_normalized = self.norm(iteration_data)\n",
    "        final_data = self.linear(data_normalized)\n",
    "\n",
    "        return final_data"
   ]
  },
  {
   "cell_type": "code",
   "execution_count": 82,
   "metadata": {},
   "outputs": [],
   "source": [
    "# Optimizer\n",
    "optimizer = optax.adamw(learning_rate)  # scheduler"
   ]
  },
  {
   "cell_type": "code",
   "execution_count": 83,
   "metadata": {},
   "outputs": [],
   "source": [
    "# Model init\n",
    "data = jnp.ones(\n",
    "    (batch_size, context_length), dtype=jnp.int32\n",
    ")\n",
    "\n",
    "\n",
    "model = TransformerModel(\n",
    "    vocab_size=tokenizer.get_vocab_size(),\n",
    "    context_length=context_length,\n",
    "    embed_dim=embed_dim,\n",
    "    head_num=n_heads,\n",
    "    dim_mul=mlp_dim_mul,\n",
    "    n_blocks=n_blocks,\n",
    ")\n",
    "\n",
    "# specify what the key is used\n",
    "key, param_key, dropout_key = jax.random.split(key, num=3)\n",
    "variables = model.init(param_key, data=data, training=False)"
   ]
  },
  {
   "cell_type": "code",
   "execution_count": 84,
   "metadata": {},
   "outputs": [],
   "source": [
    "# Training State\n",
    "params = variables[\"params\"]\n",
    "\n",
    "orbax_checkpointer = ocp.PyTreeCheckpointer()\n",
    "\n",
    "dir_path = CHECKPOINT_PATH\n",
    "\n",
    "\n",
    "class TrainState(train_state.TrainState):\n",
    "    key: jax.Array\n",
    "\n",
    "\n",
    "if not os.path.exists(dir_path):\n",
    "    os.mkdir(dir_path)\n",
    "\n",
    "\n",
    "if delete_checkpoints:\n",
    "    path = ocp.test_utils.erase_and_create_empty(dir_path)\n",
    "\n",
    "\n",
    "if len(os.listdir(dir_path)) > 0:  # If we have saved checkpoints\n",
    "    print('Getting a saved checkpoint')\n",
    "    subdirs = sorted((int(d) for d in os.listdir(dir_path)), reverse=True)\n",
    "    best_model_dir = os.path.join(dir_path, str(subdirs[0]) + \"/default/\")\n",
    "    print(f\"Loaded state {best_model_dir}\")\n",
    "    empty_state = TrainState.create(\n",
    "        apply_fn=model.apply,\n",
    "        params=jax.tree_util.tree_map(np.zeros_like, params),\n",
    "        key=dropout_key,\n",
    "        tx=optimizer,\n",
    "    )\n",
    "    target = {\"model\": empty_state}\n",
    "    state = orbax_checkpointer.restore(best_model_dir, item=target)[\"model\"]\n",
    "    path = dir_path\n",
    "else:\n",
    "    state = TrainState.create(\n",
    "        apply_fn=model.apply, params=params, key=dropout_key, tx=optimizer\n",
    "    )\n",
    "    path = dir_path"
   ]
  },
  {
   "cell_type": "code",
   "execution_count": 85,
   "metadata": {},
   "outputs": [
    {
     "name": "stderr",
     "output_type": "stream",
     "text": [
      "WARNING:absl:Configured `CheckpointManager` using deprecated legacy API. Please follow the instructions at https://orbax.readthedocs.io/en/latest/api_refactor.html to migrate by August 1st, 2024.\n"
     ]
    }
   ],
   "source": [
    "# Checkpoints\n",
    "options = ocp.CheckpointManagerOptions(max_to_keep=3)\n",
    "checkpoint_manager = ocp.CheckpointManager(path, orbax_checkpointer, options)"
   ]
  },
  {
   "cell_type": "code",
   "execution_count": 86,
   "metadata": {},
   "outputs": [],
   "source": [
    "@partial(jax.pmap, axis_name=\"batch\")\n",
    "@jax.jit  # Jit the function for efficiency\n",
    "def _train_step(state, batch, dropout_key):\n",
    "    dropout_key, dropout_train_key = jax.random.split(dropout_key)\n",
    "\n",
    "    def loss_fn(params):\n",
    "        data, labels = batch\n",
    "\n",
    "        # Same as model.apply\n",
    "        logits = state.apply_fn(\n",
    "            {\"params\": params}, data, training=True, rngs={\"dropout\": dropout_train_key}\n",
    "        )\n",
    "\n",
    "        loss = optax.softmax_cross_entropy_with_integer_labels(logits, labels)\n",
    "        mean_loss = jnp.mean(loss)\n",
    "\n",
    "        return mean_loss, logits\n",
    "\n",
    "    # Gradient function\n",
    "    grad_fn = jax.value_and_grad(\n",
    "        loss_fn,  # Function to calculate the loss\n",
    "        has_aux=True,  # Function has additional outputs, here accuracy\n",
    "    )\n",
    "    # Determine gradients for current model, parameters and batch\n",
    "    (loss, logits), grads = grad_fn(state.params)\n",
    "\n",
    "    # Perform parameter update with gradients and optimizer\n",
    "    state = state.apply_gradients(grads=grads)\n",
    "    # Return state and any other value we might want\n",
    "    return state, loss\n",
    "\n",
    "\n",
    "@partial(jax.pmap, axis_name=\"batch\")\n",
    "@jax.jit  # Jit the function for efficiency\n",
    "def _eval_step(state, batch):\n",
    "    data, labels = batch\n",
    "    logits = state.apply_fn({\"params\": state.params}, data, training=False)\n",
    "\n",
    "    loss = optax.softmax_cross_entropy_with_integer_labels(logits, labels)\n",
    "    mean_loss = jnp.mean(loss)\n",
    "\n",
    "    return mean_loss\n"
   ]
  },
  {
   "cell_type": "code",
   "execution_count": 87,
   "metadata": {},
   "outputs": [],
   "source": [
    "def train(state, num_epochs, dropout_key):\n",
    "    replicated_state = jax.device_put_replicated(state, jax.local_devices())\n",
    "    train_losses = []\n",
    "    eval_losses = []\n",
    "    best_eval_loss = float(\"inf\")\n",
    "\n",
    "    for epoch in tqdm(range(num_epochs + 1), miniters=100):\n",
    "        # Get data\n",
    "        train, train_labels = batch_loader.get_batch(\n",
    "            batch_size, context_length, training=True\n",
    "        )\n",
    "\n",
    "        # Reshaping to be compatiple with pmap\n",
    "        dropout_keys = jax.random.split(dropout_key, jax.local_device_count())\n",
    "        train = train.reshape((jax.local_device_count(), -1, *train.shape[1:]))\n",
    "        train_labels = train_labels.reshape(\n",
    "            (jax.local_device_count(), -1, *train_labels.shape[1:])\n",
    "        )\n",
    "\n",
    "        # Train step\n",
    "        train_batch = (train, train_labels)\n",
    "        replicated_state, gpu_train_losses = _train_step(\n",
    "            replicated_state, train_batch, dropout_keys\n",
    "        )\n",
    "\n",
    "        # Get mean loss across gpus\n",
    "        train_loss = jnp.mean(gpu_train_losses)\n",
    "\n",
    "        if epoch % 100 == 0:\n",
    "            # Get data\n",
    "            eval, eval_labels = batch_loader.get_batch(\n",
    "                batch_size, context_length, training=False\n",
    "            )\n",
    "\n",
    "            # Reshaping to be compatiple with pmap\n",
    "            eval = eval.reshape((jax.local_device_count(), -1, *eval.shape[1:]))\n",
    "            eval_labels = eval_labels.reshape(\n",
    "                (jax.local_device_count(), -1, *eval_labels.shape[1:])\n",
    "            )\n",
    "\n",
    "            # Eval step\n",
    "            eval_batch = (eval, eval_labels)\n",
    "            gpu_eval_losses = _eval_step(replicated_state, eval_batch)\n",
    "\n",
    "            # Get mean loss across gpus\n",
    "            eval_loss = jnp.mean(gpu_eval_losses)\n",
    "\n",
    "            # Saving best model according to loss\n",
    "            if eval_loss < best_eval_loss:\n",
    "                print(f\"Saved model with loss {eval_loss}\")\n",
    "                ckpt = {\"model\": jax.device_get(replicated_state)}\n",
    "                save_args = orbax_utils.save_args_from_target(ckpt)\n",
    "\n",
    "                checkpoint_manager.save(\n",
    "                    epoch,\n",
    "                    ckpt,\n",
    "                    save_kwargs={\"save_args\": save_args},\n",
    "                )\n",
    "                checkpoint_manager.wait_until_finished()\n",
    "                best_eval_loss = eval_loss\n",
    "\n",
    "            # Appending losses\n",
    "            train_losses.append(train_loss)\n",
    "            eval_losses.append(eval_loss)\n",
    "\n",
    "            print(f\"Epoch {epoch}: Train loss {train_loss}, Eval loss {eval_loss}\")\n",
    "\n",
    "    return jax.device_get(replicated_state), train_losses, eval_losses\n",
    "\n",
    "\n",
    "def plot_loss_curves(train_losses, eval_losses, eval_interval=100):\n",
    "    epochs = range(len(train_losses))\n",
    "\n",
    "    plt.figure(figsize=(10, 5))\n",
    "    plt.plot(epochs, train_losses, label=\"Training Loss\")\n",
    "    plt.plot(epochs, eval_losses, label=\"Evaluation Loss\")\n",
    "    plt.xlabel(\"Epochs\")\n",
    "    plt.ylabel(\"Loss\")\n",
    "    plt.title(\"Training and Evaluation Loss Curves\")\n",
    "    plt.legend()\n",
    "    plt.show()"
   ]
  },
  {
   "cell_type": "code",
   "execution_count": 88,
   "metadata": {},
   "outputs": [
    {
     "data": {
      "application/vnd.jupyter.widget-view+json": {
       "model_id": "9670b7d9c153435289832da5f8fb2153",
       "version_major": 2,
       "version_minor": 0
      },
      "text/plain": [
       "  0%|          | 0/4 [00:00<?, ?it/s]"
      ]
     },
     "metadata": {},
     "output_type": "display_data"
    },
    {
     "name": "stdout",
     "output_type": "stream",
     "text": [
      "Saved model with loss 11.321529388427734\n",
      "Epoch 0: Train loss 11.429646492004395, Eval loss 11.321529388427734\n"
     ]
    },
    {
     "data": {
      "image/png": "[encoded data removed]",
      "text/plain": [
       "<Figure size 1000x500 with 1 Axes>"
      ]
     },
     "metadata": {},
     "output_type": "display_data"
    }
   ],
   "source": [
    "# Training\n",
    "\n",
    "trained_model_state, train_losses, eval_losses = train(\n",
    "    state=state, num_epochs=max_iters, dropout_key=dropout_key\n",
    ")\n",
    "plot_loss_curves(train_losses, eval_losses)"
   ]
  },
  {
   "cell_type": "code",
   "execution_count": 92,
   "metadata": {},
   "outputs": [],
   "source": [
    "def generate(state, data, length, temperature):\n",
    "    params = state.params\n",
    "    key = jax.random.PRNGKey(42)\n",
    "    for _ in tqdm(range(length), miniters=length / 10):\n",
    "        key, subkey = jax.random.split(key)\n",
    "        generate_keys = jax.random.split(subkey, jax.local_device_count())\n",
    "        data = _generate_step(state, generate_keys, data, params, temperature)\n",
    "\n",
    "    return jax.device_get(data[0])\n",
    "\n",
    "\n",
    "@partial(jax.pmap, axis_name=\"batch\", static_broadcasted_argnums=(4))\n",
    "@jax.jit\n",
    "def _generate_step(state, key, data, params, temperature):\n",
    "    data_to_use = data[:, -context_length:]\n",
    "\n",
    "    logits = state.apply_fn({\"params\": params}, data_to_use, training=False)\n",
    "    logits = logits[:, -1, :]\n",
    "\n",
    "    next_token = jax.random.categorical(key, logits / temperature, shape=(1, 1))\n",
    "\n",
    "    data = jnp.concatenate((data, next_token), axis=1)\n",
    "    return data\n"
   ]
  },
  {
   "cell_type": "code",
   "execution_count": 96,
   "metadata": {},
   "outputs": [],
   "source": [
    "PROMPT = \"The meaning of life is \"\n",
    "prompt_tokens = tokenizer.encode(PROMPT)\n",
    "prompt = jnp.array(prompt_tokens).reshape((1, len(prompt_tokens)))\n",
    "prompt = jnp.repeat(prompt, jax.device_count(), axis=0).reshape(\n",
    "    (jax.device_count(), 1, len(prompt_tokens))\n",
    ")"
   ]
  },
  {
   "cell_type": "code",
   "execution_count": 97,
   "metadata": {},
   "outputs": [
    {
     "data": {
      "application/vnd.jupyter.widget-view+json": {
       "model_id": "bdc08e08a47c4ef08d1840a7c35dcd67",
       "version_major": 2,
       "version_minor": 0
      },
      "text/plain": [
       "  0%|          | 0/50 [00:00<?, ?it/s]"
      ]
     },
     "metadata": {},
     "output_type": "display_data"
    },
    {
     "name": "stdout",
     "output_type": "stream",
     "text": [
      "[[  464  3616   286  1204   318   220 44779 30610 45551 39654  4546 18246\n",
      "  10691 25144 33236 10673  1494 25552 14315 21329 28135 19402 39522 20796\n",
      "  19850  6771 18446 34506  3167 42149 32956 19890 15832 39732 21549   248\n",
      "  42361 18013   286  8440 38509 27734 23281 48327 10694 34654 40325 45627\n",
      "  13440 19918 21836  7811 13151 16259 18592  6120]]\n",
      "The meaning of life is  DRAG768anasia Peshgramfunded dating hersResources © killAGES2005 collectively Guards Laden probabilities scaling Pool Jews mines Ney DisAIR abdomen membr formally runaway Clint� Playoffsagi of shippingBruceLT Frontier assassinateMus printers trimmed rationality analysts bast Anyway principles 125 cycling Sunniagues\n"
     ]
    }
   ],
   "source": [
    "# Generation\n",
    "\n",
    "generated_seq = generate(\n",
    "    trained_model_state,\n",
    "    prompt,\n",
    "    50,\n",
    "    temperature,\n",
    ")\n",
    "\n",
    "print(generated_seq)\n",
    "decoded_text = tokenizer.decode(generated_seq[0])\n",
    "\n",
    "print(decoded_text)"
   ]
  }
 ],
 "metadata": {
  "kernelspec": {
   "display_name": "NN",
   "language": "python",
   "name": "python3"
  },
  "language_info": {
   "codemirror_mode": {
    "name": "ipython",
    "version": 3
   },
   "file_extension": ".py",
   "mimetype": "text/x-python",
   "name": "python",
   "nbconvert_exporter": "python",
   "pygments_lexer": "ipython3",
   "version": "3.11.8"
  }
 },
 "nbformat": 4,
 "nbformat_minor": 2
}
